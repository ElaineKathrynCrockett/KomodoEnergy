{
 "cells": [
  {
   "cell_type": "markdown",
   "id": "171a670a-d7d5-4e27-a328-63f12e96b339",
   "metadata": {},
   "source": [
    "## Komodo Energy Coding Challenge"
   ]
  },
  {
   "cell_type": "code",
   "execution_count": null,
   "id": "c9c5231c-3154-418d-9570-14f8b9a99d89",
   "metadata": {
    "scrolled": true
   },
   "outputs": [],
   "source": [
    "#!pip list\n",
    "#from platform import python_version\n",
    "#print(python_version())"
   ]
  },
  {
   "cell_type": "code",
   "execution_count": null,
   "id": "c675f09e-5d3b-4385-9554-933a86283c34",
   "metadata": {},
   "outputs": [],
   "source": [
    "import numpy as np #numpy==1.24.3\n",
    "import pandas as pd #pandas==2.0.3\n",
    "import matplotlib.pyplot as plt #matplotlib==3.7.2\n",
    "import datetime as dt #python 3.11.5"
   ]
  },
  {
   "cell_type": "markdown",
   "id": "e9677d32-4a57-47d1-875a-e24698099ad4",
   "metadata": {},
   "source": [
    "# 1. Data Exploration"
   ]
  },
  {
   "cell_type": "markdown",
   "id": "f022183d-4d60-49c8-afbf-a6ff32b9eb40",
   "metadata": {},
   "source": [
    "## Household usage data"
   ]
  },
  {
   "cell_type": "code",
   "execution_count": null,
   "id": "2f3cfd38-d970-4c07-a5c3-7b41249c5273",
   "metadata": {
    "scrolled": true
   },
   "outputs": [],
   "source": [
    "# Read in the household usage data\n",
    "energy = pd.read_csv('household_usage.csv')\n",
    "energy = energy[['Time', 'Standard_Household', 'HeatPump_Household', 'HeatPump_Battery_Household']]\n",
    "energy"
   ]
  },
  {
   "cell_type": "code",
   "execution_count": null,
   "id": "7425a52c-b913-4493-9d32-b98c42d55b89",
   "metadata": {},
   "outputs": [],
   "source": [
    "# Plot the timeseries\n",
    "energy.set_index('Time').plot(style='.-', ylabel='kWh')\n"
   ]
  },
  {
   "cell_type": "code",
   "execution_count": null,
   "id": "bce14ccd-9594-4cbe-80e5-bc6ce26fe92b",
   "metadata": {},
   "outputs": [],
   "source": [
    "# Get some useful stats\n",
    "energy.set_index('Time').describe()"
   ]
  },
  {
   "cell_type": "code",
   "execution_count": null,
   "id": "5690c60c-7e20-4c73-b2bd-1b0202d0ef6c",
   "metadata": {},
   "outputs": [],
   "source": [
    "# Find the time when the energy consumption is the max\n",
    "e = energy.set_index('Time')\n",
    "e[e==e.max()].dropna(how='all')"
   ]
  },
  {
   "cell_type": "code",
   "execution_count": null,
   "id": "b548e165-e993-4ce9-b566-ecd666853255",
   "metadata": {},
   "outputs": [],
   "source": [
    "# Find the time when the energy consumption is the minimum\n",
    "energy.set_index('Time').idxmin()\n"
   ]
  },
  {
   "cell_type": "code",
   "execution_count": null,
   "id": "5d3db4cf-1c78-47b9-abda-5847f842456d",
   "metadata": {},
   "outputs": [],
   "source": [
    "# Find the daily energy usage\n",
    "energy.set_index('Time').sum()\n"
   ]
  },
  {
   "cell_type": "markdown",
   "id": "e6f73db9-6c07-4078-aad6-895a539e1c2d",
   "metadata": {},
   "source": [
    "### How do different households use energy at different times of day?"
   ]
  },
  {
   "cell_type": "markdown",
   "id": "e28d46e8-1b92-49c4-97d5-cc4b6ac2f06c",
   "metadata": {},
   "source": [
    "The standard household represents a typical UK home where the consumption is mainly in the evening.\n",
    "The household are likely out during the day at work and return at 5.30pm.\n",
    "There is a base load of 0.2kWh and a peak load of 1.5kWh at 18:30-19:00.\n",
    "The total consumption is ~18kWh."
   ]
  },
  {
   "cell_type": "markdown",
   "id": "031c544f-b6c5-4a20-afcd-90256b98e2f2",
   "metadata": {},
   "source": [
    "The Heat pump household has large peaks in the morning and the evening.\n",
    "This is presumably when the heating/hot water are on. The maximum energy use in a half hour period was 2.2kWh.\n",
    "The total consumption is approximately double the standard household at 35 kWh per day."
   ]
  },
  {
   "cell_type": "markdown",
   "id": "8285e117-0f37-4b4b-a97a-00284f262a39",
   "metadata": {},
   "source": [
    "The Heat Pump battery household has a similar total consuption to the heat pump household but the times of usage are different. If we assume the home usage for the two homes are identical, this suggests that we're modelling a battery that is 100% efficient. That is, all the energy that goes into the battery is available for the home to use.\n",
    "The battery is charged overight and early afternoon (2.30-4pm), presumably when the tariff is cheaper. I've shown in the Tariff section that this is the case.\n",
    "Home usage is zero from 4am until 20:30 when the charge in the battery runs out. \n",
    "The battery charges for 90 mins at 5kWh per 30 mins. So this is probably a ~12-15kWh battery. We could do the full calculation by subtracting the heat pump only usage and suming the remaining energy used between battery charge times. In reality you would expect a battery system to use more due to inverter losses."
   ]
  },
  {
   "cell_type": "markdown",
   "id": "4fbb5cf7-6c95-4a33-871f-a5a4ba63da75",
   "metadata": {},
   "source": [
    "No missing data or outliers seen. Data is for a single day."
   ]
  },
  {
   "cell_type": "markdown",
   "id": "269eff5e-b260-4165-9c18-48aa83718451",
   "metadata": {},
   "source": [
    "## Tariff data"
   ]
  },
  {
   "cell_type": "code",
   "execution_count": null,
   "id": "ea5477ff-80ef-4800-b990-3e65bc50af49",
   "metadata": {},
   "outputs": [],
   "source": [
    "# Read in tariff data\n",
    "tariff = pd.read_json('agile_price_example.json')\n",
    "tariff\n"
   ]
  },
  {
   "cell_type": "code",
   "execution_count": null,
   "id": "09e2d6e2-2b50-4277-846c-29a03a8b854d",
   "metadata": {},
   "outputs": [],
   "source": [
    "# Extract the datetime and prices that include VAT\n",
    "valid_from = [x['valid_from'] for x in tariff['results']]\n",
    "valid_from = pd.to_datetime(pd.Series(valid_from))\n",
    "value_inc_vat = [x['value_inc_vat'] for x in tariff['results']]\n",
    "prices = pd.DataFrame(value_inc_vat, index=valid_from).sort_index()\n",
    "prices.columns=['tariff']\n",
    "prices"
   ]
  },
  {
   "cell_type": "code",
   "execution_count": null,
   "id": "0f459d99-cea1-4e10-81c3-d777b694020c",
   "metadata": {},
   "outputs": [],
   "source": [
    "prices.describe()"
   ]
  },
  {
   "cell_type": "code",
   "execution_count": null,
   "id": "afdf5100-faf2-4929-849d-5586da926c28",
   "metadata": {},
   "outputs": [],
   "source": [
    "prices.plot(ylabel='p/kWh')"
   ]
  },
  {
   "cell_type": "markdown",
   "id": "52b314f8-5157-4a1b-850f-5cd8fe380372",
   "metadata": {},
   "source": [
    "We have data from Tues 11/3/25 23:00 to Thu 13/3/25 23:00. So 48 hours but not quite 2 full days. The pattern in the two days is similar but slightly different. There's a peak in the morning and a larger peak in the evening around 6pm when people use most energy. "
   ]
  },
  {
   "cell_type": "code",
   "execution_count": null,
   "id": "4e7ad0de-b21e-417e-9041-ae92e0ad80c9",
   "metadata": {},
   "outputs": [],
   "source": [
    "# Overplot the data \n",
    "prices['date']=prices.index.date\n",
    "prices['time']=prices.index.time\n",
    "prices.set_index('time').groupby(['date'])['tariff'].plot(legend=True, ylabel='p/kWh')"
   ]
  },
  {
   "cell_type": "markdown",
   "id": "3951f5f3-0c47-4bfa-816e-70be419b7e05",
   "metadata": {},
   "source": [
    "The amplitude slightly differs between the two days, particularly the morning peak and the afternoon baseline. Peak price is around 48p/kWh and minimum price is around 19p/kWh on both days. NB These are both weekdays\n"
   ]
  },
  {
   "cell_type": "markdown",
   "id": "71334dbe-fd4a-4547-bd0f-70a8895e5ba7",
   "metadata": {},
   "source": [
    "No missing data or outliers seen. \n"
   ]
  },
  {
   "cell_type": "markdown",
   "id": "4eefab0c-f4b6-4a3c-bb53-17599eabbbc4",
   "metadata": {},
   "source": [
    "## Flexibility Event data"
   ]
  },
  {
   "cell_type": "code",
   "execution_count": null,
   "id": "d65f90af-b2fd-4ec6-8108-a8c40c20b96c",
   "metadata": {},
   "outputs": [],
   "source": [
    "# Read in flexibilty data\n",
    "flex = pd.read_json('flexibility_opportunity.json')\n",
    "flex"
   ]
  },
  {
   "cell_type": "code",
   "execution_count": null,
   "id": "48dacb60-46c5-440f-94d6-ce8f3369c5e5",
   "metadata": {},
   "outputs": [],
   "source": [
    "flex = pd.json_normalize(flex['flexibility_opportunities'])\n",
    "flex"
   ]
  },
  {
   "cell_type": "code",
   "execution_count": null,
   "id": "9bdd342d-9a8f-4afa-bccd-47a92fa94873",
   "metadata": {},
   "outputs": [],
   "source": [
    "# Calculate the maximum return from each event\n",
    "flex['price_per_kWh']*flex['max_flexibility_kWh']"
   ]
  },
  {
   "cell_type": "markdown",
   "id": "ee41f4bf-9442-4981-919f-384af2529514",
   "metadata": {},
   "source": [
    "There are two events specified - a turn down (reduce consumption) and a turn up (use excess grid energy). Turn down is more lucrative and could earn £7.50 if the maximum energy is saved (5kWh). If you could combine the two, i.e. move your energy use from the turn down time to the turn up time, a householder could earn £9. "
   ]
  },
  {
   "cell_type": "markdown",
   "id": "13f7579a-adf1-43bc-97d2-053cbcbfbd06",
   "metadata": {},
   "source": [
    "The minimum flexibility for a turn down event is 1 kWh, so just shifting appliances like washing machine/oven/tumble dryer may be enough to earn a little. However, hot water and space heating are more reliably shifted with less disruption to the householder as they can be controlled automatically and have larger capacity for shifting energy. "
   ]
  },
  {
   "cell_type": "markdown",
   "id": "8a1935f7-1802-44c2-8fee-c066a7e3dc15",
   "metadata": {},
   "source": [
    "## Load shifting potential"
   ]
  },
  {
   "cell_type": "code",
   "execution_count": null,
   "id": "932e7532-3f3b-4743-b87f-8d5cfdd1fb42",
   "metadata": {},
   "outputs": [],
   "source": [
    "# Merge the datasets\n",
    "energy['time'] = pd.to_datetime(flex_energy['Time'], format= '%H:%M:%S').dt.time\n",
    "p=prices.groupby(['date', 'time']).max().unstack(level=0).droplevel(level=0, axis=1)\n",
    "flex_pot = pd.merge(energy, p, on=\"time\")\n",
    "flex_pot.columns=['Time', 'Standard_Household', 'HeatPump_Household', 'HeatPump_Battery_Household', 'time','2025-03-11', '2025-03-12', '2025-03-13']"
   ]
  },
  {
   "cell_type": "code",
   "execution_count": null,
   "id": "68ca36d4-52f2-4279-a7bb-9d04442ba5f0",
   "metadata": {},
   "outputs": [],
   "source": [
    "# Plot the tariff and energy use\n",
    "ax = flex_pot.set_index('time').plot(ylabel='kWh', color=['C0', 'C1', 'C2', 'black', 'black', 'black'], secondary_y=['Standard_Household', 'HeatPump_Household', 'HeatPump_Battery_Household'])\n",
    "ax.set_ylabel('p/kWh')\n",
    "ax.set_ylim(10,60)\n",
    "\n"
   ]
  },
  {
   "cell_type": "markdown",
   "id": "e57c0f27-0a27-4f50-a508-b7c11aab123b",
   "metadata": {},
   "source": [
    "The plot above shows the potential for saving through load shifting.\n",
    "As we expected, the times when the battery charges are when the tariff is low, and just before the evening peak. This will help the battery last as long as possible over the most expensive time.\n",
    "When the price is most expensive, in the evening, both the Standard and Heat pump households have their highest consumption. \n",
    "They could save money by shifting away from this time. The heat pump household has a higher consumption so more to gain.\n",
    "The heat pump household also uses a lot of energy during the morning peak. Therefore the heatpump household has the most to gain from load shifting."
   ]
  },
  {
   "cell_type": "code",
   "execution_count": null,
   "id": "f7ed6c99-f91b-4f08-bb21-7cef04e5494a",
   "metadata": {},
   "outputs": [],
   "source": [
    "flex_pot.head()"
   ]
  },
  {
   "cell_type": "markdown",
   "id": "4b60f1f2-2fc4-49f5-b4a9-66ee07319bbc",
   "metadata": {},
   "source": [
    "## Home Energy Cost"
   ]
  },
  {
   "cell_type": "code",
   "execution_count": null,
   "id": "35c36a82-f8d8-4579-985d-7fe5c4bdfbb5",
   "metadata": {},
   "outputs": [],
   "source": [
    "# Calculate the cost in £ assuming the usage data is from 13/3/2025\n",
    "flex_pot['SH_ag_cost'] = flex_pot['Standard_Household']*flex_pot['2025-03-12']/100\n",
    "flex_pot['HP_ag_cost'] = flex_pot['HeatPump_Household']*flex_pot['2025-03-12']/100\n",
    "flex_pot['HPB_ag_cost'] = flex_pot['HeatPump_Battery_Household']*flex_pot['2025-03-12']/100\n",
    "# Current Ofgem price cap (1 April to 30 June 2025 )\n",
    "flat_tariff = 27.03\n",
    "flex_pot['SH_ft_cost'] = flex_pot['Standard_Household']*flat_tariff/100\n",
    "flex_pot['HP_ft_cost'] = flex_pot['HeatPump_Household']*flat_tariff/100\n",
    "flex_pot['HPB_ft_cost'] = flex_pot['HeatPump_Battery_Household']*flat_tariff/100\n",
    "\n",
    "flex_pot.head()"
   ]
  },
  {
   "cell_type": "code",
   "execution_count": null,
   "id": "9783fbba-13d0-4328-899b-154d007bb508",
   "metadata": {},
   "outputs": [],
   "source": [
    "# Plot the daily cost for each household under agile tariff\n",
    "ax = flex_pot[['SH_ag_cost','HP_ag_cost','HPB_ag_cost']].sum().plot.bar(ylabel='£')\n",
    "plt.xticks(rotation=0)\n",
    "for c in ax.containers: ax.bar_label(c, fmt='%.1f', label_type='edge')\n"
   ]
  },
  {
   "cell_type": "markdown",
   "id": "8e175c4e-b94e-4601-86d6-425e51946acf",
   "metadata": {},
   "source": [
    "The plot shows that a heat pump home could save around £3 per day from using a battery to shift the load from peak to off peak times under the agile tariff."
   ]
  },
  {
   "cell_type": "code",
   "execution_count": null,
   "id": "8a832413-91f5-47d4-925e-a701813b19bc",
   "metadata": {},
   "outputs": [],
   "source": [
    "# Plot the daily cost for each household under agile tariff\n",
    "ax = flex_pot[['SH_ft_cost','HP_ft_cost','HPB_ft_cost']].sum().plot.bar(ylabel='£')\n",
    "plt.xticks(rotation=0)\n",
    "for c in ax.containers: ax.bar_label(c, fmt='%.1f', label_type='edge')"
   ]
  },
  {
   "cell_type": "markdown",
   "id": "0fe8dd0e-3aca-44d1-b162-fdce87acb2d3",
   "metadata": {},
   "source": [
    "The standard and heat pump homes would pay slightly less under the flat tariff. The heat pump homes with and without the battery have the same cost under the flat tariff (they have the same energy usage as noted above). A heat pump home with a battery moving from a flat tariff to an agile one would save about £2 per day."
   ]
  },
  {
   "cell_type": "markdown",
   "id": "a049014f-c21b-4e32-8aef-c61486c399f3",
   "metadata": {},
   "source": [
    "## Flexibility Provider insights"
   ]
  },
  {
   "cell_type": "markdown",
   "id": "88be47e8-e9f5-4755-abe2-a2ac4c47617c",
   "metadata": {},
   "source": [
    "A flexibility provider could make the following conclusions based on this data:\n",
    "* Battery systems are already likely to be optimised for charging at low demand times and discharging at high tariff times. Therefore they may not be so suited for turn-down events. But they could be very useful for turn-up events. They may be able to react more quickly and have more capacity for energy storage than heat pump systems.\n",
    "* Heat pumps offer the most turn-down potential, as they could shift their heating/hot water earlier particularly at the evening peak time, if there is enough warning. They have the capacity to turn-down more than the standard households. \n",
    "* Heat pump homes and standard homes with hot water tanks also have the potential for turn-up events as they could store some energy in the tank.\n"
   ]
  },
  {
   "cell_type": "markdown",
   "id": "f34b3adb-3c44-4987-99e4-fedd96d029ee",
   "metadata": {},
   "source": [
    "# 2. Recomending when to shift energy use "
   ]
  },
  {
   "cell_type": "markdown",
   "id": "f5127067-6096-4708-bae3-e49b44ba7df5",
   "metadata": {},
   "source": [
    "Imagine we have a flexible load that consumes energy. Under an agile tariff, it can be cost effective to shift this load in time if the scheduled time is during a high tariff period. The larger the load, the more cost effective it is to shift it. So lets consider devices like hot water heaters and tumble dryers.\n",
    "\n",
    "We can specify the ideal time we would like this load to start, the average power of the device and the duration it is on for. We can then calculate the cost of using the device at this time and at other times, and see which gives the best savings. However some times may less convenient than others. We can take this into consideration by defining a cost function that penalises for inconvenience. In this scenario we consider the following criteria:\n",
    "* The householder doesn't want the device on at night (11pm-6am). A large cost penalty is applied.\n",
    "* The further away from the scheduled time, the less desirable it is. For example, shifting by 2 hours is more desirable than 6 hours.\n",
    "* Moving the load earlier than the ideal schedule is more desirable than moving it later. The penalty for shifting later is twice that of shifting earlier. \n",
    "\n",
    "We create a simultor to calculate the inconvenience cost as well as monetary gain of shifting a load. The time with the least inconvenience for the most gain is reported. If this is more than 10p per day then we consider it to be worth shifting."
   ]
  },
  {
   "cell_type": "code",
   "execution_count": null,
   "id": "40051dbd-a026-49b7-944f-24b604f9f839",
   "metadata": {},
   "outputs": [],
   "source": [
    "# The simulation\n",
    "def sim_trial_schedule(schedule_start_time, trial_start_time, duration, power):\n",
    "\n",
    "    schedule = create_schedule(schedule_start_time, duration)\n",
    "    trial_schedule = create_schedule(trial_start_time, duration)\n",
    "    \n",
    "    opt = pd.DataFrame(flex_pot['time']).reset_index()\n",
    "    opt['tariff'] = flex_pot['2025-03-12']\n",
    "    \n",
    "    opt['schedule'] =  opt['time'].apply(lambda x: 1 if x in schedule else 0)\n",
    "    opt['schedule_load_cost'] = opt['schedule']* power/2 * opt['tariff']\n",
    "    \n",
    "    opt['trial_schedule'] = opt['time'].apply(lambda x: 1 if x in trial_schedule else 0)\n",
    "    opt['trial_load_cost'] = opt['trial_schedule']* power/2 * opt['tariff']\n",
    "    \n",
    "    opt['night'] = opt['time'].apply(lambda x: 1 if x < dt.time(6,0) else 1 if x > dt.time(23,0) else 0) # only works if schedule is during day\n",
    "    opt['night_cost'] = opt['night'] * opt['trial_schedule'] * 50\n",
    "    \n",
    "    start_time_index = opt[opt['time']==schedule_start_time].index.item()\n",
    "    opt['inconvenient'] = opt['index'].apply(lambda x: (start_time_index-x) if x < start_time_index else (x-start_time_index-duration*2+1)*2 if x >= start_time_index+duration*2 else 0)\n",
    "    opt['inconvenient_cost'] = opt['trial_schedule'] * opt['inconvenient']\n",
    "    \n",
    "    opt['total_cost'] = opt['trial_load_cost'] + opt['night_cost'] + opt['inconvenient_cost']\n",
    "\n",
    "    cost = opt['total_cost'].sum()\n",
    "    true_cost = opt['trial_load_cost'].sum()\n",
    "    \n",
    "    return opt, cost, true_cost"
   ]
  },
  {
   "cell_type": "code",
   "execution_count": null,
   "id": "54828fdf-6c64-4186-b4fa-509842d84412",
   "metadata": {},
   "outputs": [],
   "source": [
    "# Create a device on/off schedule based on the parameters specified\n",
    "def create_schedule(schedule_start_time, duration):\n",
    "    schedule = []\n",
    "    schedule_start_date = dt.datetime.combine(dt.date.today(), schedule_start_time)\n",
    "    for hh in range(duration*2):\n",
    "        schedule_time = (schedule_start_date + dt.timedelta(minutes=30*hh)).time()\n",
    "        schedule.append(schedule_time) \n",
    "\n",
    "    return schedule\n",
    "    "
   ]
  },
  {
   "cell_type": "code",
   "execution_count": null,
   "id": "a11a7bfb-f276-40bb-bd86-d2beb981ce56",
   "metadata": {},
   "outputs": [],
   "source": [
    "# Specify the load to be shifted\n",
    "\n",
    "schedule_start_time = dt.time(17,0,0)\n",
    "duration = 2 #hours   #NB doesn't work for 0.5 hour yet\n",
    "power = 2 #kW\n"
   ]
  },
  {
   "cell_type": "code",
   "execution_count": null,
   "id": "1408572a-56fe-4e78-aed8-2359af0a9a7d",
   "metadata": {},
   "outputs": [],
   "source": [
    "# Run simulations to see if it is worth shifting the load\n",
    "\n",
    "trial_cost=[]\n",
    "true_trial_cost=[]\n",
    "trial_start_times = pd.date_range(dt.datetime(2000,1,1,0,0,0),periods=48-duration*2+1,freq='30min')\n",
    "\n",
    "for trial_start_time in trial_start_times:\n",
    "    opt, cost, true_cost = sim_trial_schedule(schedule_start_time, trial_start_time.time(), duration, power)\n",
    "    trial_cost.append(cost)\n",
    "    true_trial_cost.append(true_cost)"
   ]
  },
  {
   "cell_type": "code",
   "execution_count": null,
   "id": "9ec9e7aa-5925-41d4-b31c-4af462fa092a",
   "metadata": {},
   "outputs": [],
   "source": [
    "# Plot results \n",
    "results=pd.DataFrame(trial_start_times.time, trial_cost).reset_index()\n",
    "results.columns=['trial_cost','trial_start_time']\n",
    "results['trial_start_time'] = results['trial_start_time']\n",
    "results['trial_true_cost'] = true_trial_cost\n",
    "optimum_time = results[results['trial_cost']==results['trial_cost'].min()]['trial_start_time'].item()\n",
    "\n",
    "results.plot('trial_start_time', ['trial_cost', 'trial_true_cost'], style='.-')\n",
    "plt.axvline(schedule_start_time, color='black', linestyle='--', label='Scheduled time')\n",
    "plt.axvline(optimum_time, color='black', linestyle='-', label='Optimum time')\n",
    "plt.legend()\n",
    "\n",
    "plt.tight_layout()"
   ]
  },
  {
   "cell_type": "code",
   "execution_count": null,
   "id": "dc4d3fb4-174a-41f7-b469-678c95c2eddd",
   "metadata": {},
   "outputs": [],
   "source": [
    "# Calculate the cost savings between the schedule and optimum times\n",
    "opt, cost, true_cost = sim_trial_schedule(schedule_start_time, optimum_time, duration, power)\n",
    "cost_saving = (opt['schedule_load_cost']-opt['trial_load_cost']).sum()\n",
    "total_saving = (opt['schedule_load_cost']-opt['total_cost']).sum()\n",
    "print(schedule_start_time, optimum_time, cost_saving, total_saving)\n"
   ]
  },
  {
   "cell_type": "code",
   "execution_count": null,
   "id": "6ff8862d-4e9a-43c8-aca9-6199ec878e43",
   "metadata": {},
   "outputs": [],
   "source": [
    "# Determine if there is another time which saves more than 10p and isn't too inconvenient\n",
    "if (total_saving > 0) & (cost_saving > 10):\n",
    "    print('You would save £%s by switching your schedule from %s to %s' % (round(cost_saving)/100, schedule_start_time, optimum_time)) # e.g. 5pm\n",
    "elif (total_saving == 0):\n",
    "    print('It is not worth switching your schedule today because the inconvenience is not worth the saving') # e.g. 12pm\n",
    "else:\n",
    "    print('It is not worth switching your schedule today because the cost saving is less than 10p') # e.g. 7am"
   ]
  },
  {
   "cell_type": "code",
   "execution_count": null,
   "id": "4aaf158d-fcb0-4691-9ec2-07f3183a90da",
   "metadata": {},
   "outputs": [],
   "source": [
    "opt"
   ]
  },
  {
   "cell_type": "code",
   "execution_count": null,
   "id": "2b31873f-7b76-451c-a9c6-f32dd0c0361e",
   "metadata": {},
   "outputs": [],
   "source": []
  }
 ],
 "metadata": {
  "kernelspec": {
   "display_name": "venv",
   "language": "python",
   "name": "venv"
  },
  "language_info": {
   "codemirror_mode": {
    "name": "ipython",
    "version": 3
   },
   "file_extension": ".py",
   "mimetype": "text/x-python",
   "name": "python",
   "nbconvert_exporter": "python",
   "pygments_lexer": "ipython3",
   "version": "3.11.5"
  }
 },
 "nbformat": 4,
 "nbformat_minor": 5
}
