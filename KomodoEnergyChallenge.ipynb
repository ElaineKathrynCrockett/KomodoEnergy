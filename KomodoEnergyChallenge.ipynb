{
 "cells": [
  {
   "cell_type": "markdown",
   "id": "171a670a-d7d5-4e27-a328-63f12e96b339",
   "metadata": {},
   "source": [
    "## Komodo Energy Coding Challenge"
   ]
  },
  {
   "cell_type": "code",
   "execution_count": 23,
   "id": "8234dd1f-e939-46c7-ab5a-27c89def164c",
   "metadata": {},
   "outputs": [],
   "source": [
    "# Find out what versions of packages I have installed\n",
    "#pip list"
   ]
  },
  {
   "cell_type": "code",
   "execution_count": 24,
   "id": "c675f09e-5d3b-4385-9554-933a86283c34",
   "metadata": {},
   "outputs": [],
   "source": [
    "import numpy as np #numpy==1.24.3\n",
    "import pandas as pd #pandas==2.0.3\n",
    "import matplotlib.pyplot as plt #matplotlib==3.7.2\n",
    "import sklearn as sl #sklearn == 1.3.0\n"
   ]
  },
  {
   "cell_type": "code",
   "execution_count": null,
   "id": "375e1e1b-5bdd-4e40-9f4a-19e65a53d0ae",
   "metadata": {},
   "outputs": [],
   "source": []
  }
 ],
 "metadata": {
  "kernelspec": {
   "display_name": "venv",
   "language": "python",
   "name": "venv"
  },
  "language_info": {
   "codemirror_mode": {
    "name": "ipython",
    "version": 3
   },
   "file_extension": ".py",
   "mimetype": "text/x-python",
   "name": "python",
   "nbconvert_exporter": "python",
   "pygments_lexer": "ipython3",
   "version": "3.11.5"
  }
 },
 "nbformat": 4,
 "nbformat_minor": 5
}
