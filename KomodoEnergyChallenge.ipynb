{
 "cells": [
  {
   "cell_type": "markdown",
   "id": "171a670a-d7d5-4e27-a328-63f12e96b339",
   "metadata": {},
   "source": [
    "## Komodo Energy Coding Challenge"
   ]
  },
  {
   "cell_type": "code",
   "execution_count": 2100,
   "id": "c9c5231c-3154-418d-9570-14f8b9a99d89",
   "metadata": {
    "scrolled": true
   },
   "outputs": [],
   "source": [
    "#!pip list\n",
    "#from platform import python_version\n",
    "#print(python_version())"
   ]
  },
  {
   "cell_type": "code",
   "execution_count": 2102,
   "id": "c675f09e-5d3b-4385-9554-933a86283c34",
   "metadata": {},
   "outputs": [],
   "source": [
    "import numpy as np #numpy==1.24.3\n",
    "import pandas as pd #pandas==2.0.3\n",
    "import matplotlib.pyplot as plt #matplotlib==3.7.2\n",
    "import datetime as dt #python 3.11.5"
   ]
  },
  {
   "cell_type": "markdown",
   "id": "e9677d32-4a57-47d1-875a-e24698099ad4",
   "metadata": {},
   "source": [
    "# 1. Data Exploration"
   ]
  },
  {
   "cell_type": "markdown",
   "id": "f022183d-4d60-49c8-afbf-a6ff32b9eb40",
   "metadata": {},
   "source": [
    "## Household usage data"
   ]
  },
  {
   "cell_type": "code",
   "execution_count": 2106,
   "id": "2f3cfd38-d970-4c07-a5c3-7b41249c5273",
   "metadata": {
    "scrolled": true
   },
   "outputs": [
    {
     "data": {
      "text/html": [
       "<div>\n",
       "<style scoped>\n",
       "    .dataframe tbody tr th:only-of-type {\n",
       "        vertical-align: middle;\n",
       "    }\n",
       "\n",
       "    .dataframe tbody tr th {\n",
       "        vertical-align: top;\n",
       "    }\n",
       "\n",
       "    .dataframe thead th {\n",
       "        text-align: right;\n",
       "    }\n",
       "</style>\n",
       "<table border=\"1\" class=\"dataframe\">\n",
       "  <thead>\n",
       "    <tr style=\"text-align: right;\">\n",
       "      <th></th>\n",
       "      <th>Time</th>\n",
       "      <th>Standard_Household</th>\n",
       "      <th>HeatPump_Household</th>\n",
       "      <th>HeatPump_Battery_Household</th>\n",
       "    </tr>\n",
       "  </thead>\n",
       "  <tbody>\n",
       "    <tr>\n",
       "      <th>0</th>\n",
       "      <td>00:00</td>\n",
       "      <td>0.4</td>\n",
       "      <td>0.6</td>\n",
       "      <td>0.6</td>\n",
       "    </tr>\n",
       "    <tr>\n",
       "      <th>1</th>\n",
       "      <td>00:30</td>\n",
       "      <td>0.3</td>\n",
       "      <td>0.5</td>\n",
       "      <td>0.5</td>\n",
       "    </tr>\n",
       "    <tr>\n",
       "      <th>2</th>\n",
       "      <td>01:00</td>\n",
       "      <td>0.3</td>\n",
       "      <td>0.5</td>\n",
       "      <td>0.5</td>\n",
       "    </tr>\n",
       "    <tr>\n",
       "      <th>3</th>\n",
       "      <td>01:30</td>\n",
       "      <td>0.3</td>\n",
       "      <td>0.5</td>\n",
       "      <td>0.5</td>\n",
       "    </tr>\n",
       "    <tr>\n",
       "      <th>4</th>\n",
       "      <td>02:00</td>\n",
       "      <td>0.2</td>\n",
       "      <td>0.4</td>\n",
       "      <td>0.5</td>\n",
       "    </tr>\n",
       "    <tr>\n",
       "      <th>5</th>\n",
       "      <td>02:30</td>\n",
       "      <td>0.2</td>\n",
       "      <td>0.4</td>\n",
       "      <td>5.0</td>\n",
       "    </tr>\n",
       "    <tr>\n",
       "      <th>6</th>\n",
       "      <td>03:00</td>\n",
       "      <td>0.2</td>\n",
       "      <td>0.4</td>\n",
       "      <td>5.0</td>\n",
       "    </tr>\n",
       "    <tr>\n",
       "      <th>7</th>\n",
       "      <td>03:30</td>\n",
       "      <td>0.2</td>\n",
       "      <td>0.4</td>\n",
       "      <td>5.0</td>\n",
       "    </tr>\n",
       "    <tr>\n",
       "      <th>8</th>\n",
       "      <td>04:00</td>\n",
       "      <td>0.2</td>\n",
       "      <td>0.4</td>\n",
       "      <td>0.0</td>\n",
       "    </tr>\n",
       "    <tr>\n",
       "      <th>9</th>\n",
       "      <td>04:30</td>\n",
       "      <td>0.2</td>\n",
       "      <td>0.4</td>\n",
       "      <td>0.0</td>\n",
       "    </tr>\n",
       "    <tr>\n",
       "      <th>10</th>\n",
       "      <td>05:00</td>\n",
       "      <td>0.2</td>\n",
       "      <td>0.4</td>\n",
       "      <td>0.0</td>\n",
       "    </tr>\n",
       "    <tr>\n",
       "      <th>11</th>\n",
       "      <td>05:30</td>\n",
       "      <td>0.2</td>\n",
       "      <td>0.4</td>\n",
       "      <td>0.0</td>\n",
       "    </tr>\n",
       "    <tr>\n",
       "      <th>12</th>\n",
       "      <td>06:00</td>\n",
       "      <td>0.2</td>\n",
       "      <td>0.4</td>\n",
       "      <td>0.0</td>\n",
       "    </tr>\n",
       "    <tr>\n",
       "      <th>13</th>\n",
       "      <td>06:30</td>\n",
       "      <td>0.2</td>\n",
       "      <td>1.5</td>\n",
       "      <td>0.0</td>\n",
       "    </tr>\n",
       "    <tr>\n",
       "      <th>14</th>\n",
       "      <td>07:00</td>\n",
       "      <td>0.2</td>\n",
       "      <td>1.5</td>\n",
       "      <td>0.0</td>\n",
       "    </tr>\n",
       "    <tr>\n",
       "      <th>15</th>\n",
       "      <td>07:30</td>\n",
       "      <td>0.2</td>\n",
       "      <td>1.5</td>\n",
       "      <td>0.0</td>\n",
       "    </tr>\n",
       "    <tr>\n",
       "      <th>16</th>\n",
       "      <td>08:00</td>\n",
       "      <td>0.2</td>\n",
       "      <td>1.5</td>\n",
       "      <td>0.0</td>\n",
       "    </tr>\n",
       "    <tr>\n",
       "      <th>17</th>\n",
       "      <td>08:30</td>\n",
       "      <td>0.2</td>\n",
       "      <td>1.5</td>\n",
       "      <td>0.0</td>\n",
       "    </tr>\n",
       "    <tr>\n",
       "      <th>18</th>\n",
       "      <td>09:00</td>\n",
       "      <td>0.2</td>\n",
       "      <td>0.4</td>\n",
       "      <td>0.0</td>\n",
       "    </tr>\n",
       "    <tr>\n",
       "      <th>19</th>\n",
       "      <td>09:30</td>\n",
       "      <td>0.2</td>\n",
       "      <td>0.4</td>\n",
       "      <td>0.0</td>\n",
       "    </tr>\n",
       "    <tr>\n",
       "      <th>20</th>\n",
       "      <td>10:00</td>\n",
       "      <td>0.2</td>\n",
       "      <td>0.4</td>\n",
       "      <td>0.0</td>\n",
       "    </tr>\n",
       "    <tr>\n",
       "      <th>21</th>\n",
       "      <td>10:30</td>\n",
       "      <td>0.2</td>\n",
       "      <td>0.4</td>\n",
       "      <td>0.0</td>\n",
       "    </tr>\n",
       "    <tr>\n",
       "      <th>22</th>\n",
       "      <td>11:00</td>\n",
       "      <td>0.2</td>\n",
       "      <td>0.4</td>\n",
       "      <td>0.0</td>\n",
       "    </tr>\n",
       "    <tr>\n",
       "      <th>23</th>\n",
       "      <td>11:30</td>\n",
       "      <td>0.2</td>\n",
       "      <td>0.4</td>\n",
       "      <td>0.0</td>\n",
       "    </tr>\n",
       "    <tr>\n",
       "      <th>24</th>\n",
       "      <td>12:00</td>\n",
       "      <td>0.2</td>\n",
       "      <td>0.2</td>\n",
       "      <td>0.0</td>\n",
       "    </tr>\n",
       "    <tr>\n",
       "      <th>25</th>\n",
       "      <td>12:30</td>\n",
       "      <td>0.2</td>\n",
       "      <td>0.2</td>\n",
       "      <td>0.0</td>\n",
       "    </tr>\n",
       "    <tr>\n",
       "      <th>26</th>\n",
       "      <td>13:00</td>\n",
       "      <td>0.2</td>\n",
       "      <td>0.2</td>\n",
       "      <td>0.0</td>\n",
       "    </tr>\n",
       "    <tr>\n",
       "      <th>27</th>\n",
       "      <td>13:30</td>\n",
       "      <td>0.2</td>\n",
       "      <td>0.2</td>\n",
       "      <td>0.0</td>\n",
       "    </tr>\n",
       "    <tr>\n",
       "      <th>28</th>\n",
       "      <td>14:00</td>\n",
       "      <td>0.2</td>\n",
       "      <td>0.4</td>\n",
       "      <td>0.0</td>\n",
       "    </tr>\n",
       "    <tr>\n",
       "      <th>29</th>\n",
       "      <td>14:30</td>\n",
       "      <td>0.2</td>\n",
       "      <td>0.4</td>\n",
       "      <td>5.0</td>\n",
       "    </tr>\n",
       "    <tr>\n",
       "      <th>30</th>\n",
       "      <td>15:00</td>\n",
       "      <td>0.2</td>\n",
       "      <td>0.4</td>\n",
       "      <td>5.0</td>\n",
       "    </tr>\n",
       "    <tr>\n",
       "      <th>31</th>\n",
       "      <td>15:30</td>\n",
       "      <td>0.2</td>\n",
       "      <td>0.4</td>\n",
       "      <td>5.0</td>\n",
       "    </tr>\n",
       "    <tr>\n",
       "      <th>32</th>\n",
       "      <td>16:00</td>\n",
       "      <td>0.2</td>\n",
       "      <td>0.4</td>\n",
       "      <td>0.0</td>\n",
       "    </tr>\n",
       "    <tr>\n",
       "      <th>33</th>\n",
       "      <td>16:30</td>\n",
       "      <td>0.2</td>\n",
       "      <td>0.4</td>\n",
       "      <td>0.0</td>\n",
       "    </tr>\n",
       "    <tr>\n",
       "      <th>34</th>\n",
       "      <td>17:00</td>\n",
       "      <td>0.2</td>\n",
       "      <td>1.5</td>\n",
       "      <td>0.0</td>\n",
       "    </tr>\n",
       "    <tr>\n",
       "      <th>35</th>\n",
       "      <td>17:30</td>\n",
       "      <td>0.8</td>\n",
       "      <td>1.5</td>\n",
       "      <td>0.0</td>\n",
       "    </tr>\n",
       "    <tr>\n",
       "      <th>36</th>\n",
       "      <td>18:00</td>\n",
       "      <td>1.2</td>\n",
       "      <td>2.0</td>\n",
       "      <td>0.0</td>\n",
       "    </tr>\n",
       "    <tr>\n",
       "      <th>37</th>\n",
       "      <td>18:30</td>\n",
       "      <td>1.5</td>\n",
       "      <td>2.2</td>\n",
       "      <td>0.0</td>\n",
       "    </tr>\n",
       "    <tr>\n",
       "      <th>38</th>\n",
       "      <td>19:00</td>\n",
       "      <td>1.4</td>\n",
       "      <td>2.0</td>\n",
       "      <td>0.0</td>\n",
       "    </tr>\n",
       "    <tr>\n",
       "      <th>39</th>\n",
       "      <td>19:30</td>\n",
       "      <td>1.2</td>\n",
       "      <td>1.8</td>\n",
       "      <td>0.0</td>\n",
       "    </tr>\n",
       "    <tr>\n",
       "      <th>40</th>\n",
       "      <td>20:00</td>\n",
       "      <td>0.9</td>\n",
       "      <td>1.6</td>\n",
       "      <td>0.0</td>\n",
       "    </tr>\n",
       "    <tr>\n",
       "      <th>41</th>\n",
       "      <td>20:30</td>\n",
       "      <td>0.7</td>\n",
       "      <td>1.4</td>\n",
       "      <td>0.0</td>\n",
       "    </tr>\n",
       "    <tr>\n",
       "      <th>42</th>\n",
       "      <td>21:00</td>\n",
       "      <td>0.5</td>\n",
       "      <td>0.4</td>\n",
       "      <td>0.4</td>\n",
       "    </tr>\n",
       "    <tr>\n",
       "      <th>43</th>\n",
       "      <td>21:30</td>\n",
       "      <td>0.5</td>\n",
       "      <td>0.4</td>\n",
       "      <td>0.4</td>\n",
       "    </tr>\n",
       "    <tr>\n",
       "      <th>44</th>\n",
       "      <td>22:00</td>\n",
       "      <td>0.5</td>\n",
       "      <td>0.4</td>\n",
       "      <td>0.4</td>\n",
       "    </tr>\n",
       "    <tr>\n",
       "      <th>45</th>\n",
       "      <td>22:30</td>\n",
       "      <td>0.5</td>\n",
       "      <td>0.4</td>\n",
       "      <td>0.4</td>\n",
       "    </tr>\n",
       "    <tr>\n",
       "      <th>46</th>\n",
       "      <td>23:00</td>\n",
       "      <td>0.2</td>\n",
       "      <td>0.4</td>\n",
       "      <td>0.4</td>\n",
       "    </tr>\n",
       "    <tr>\n",
       "      <th>47</th>\n",
       "      <td>23:30</td>\n",
       "      <td>0.2</td>\n",
       "      <td>0.5</td>\n",
       "      <td>0.5</td>\n",
       "    </tr>\n",
       "  </tbody>\n",
       "</table>\n",
       "</div>"
      ],
      "text/plain": [
       "     Time  Standard_Household  HeatPump_Household  HeatPump_Battery_Household\n",
       "0   00:00                 0.4                 0.6                         0.6\n",
       "1   00:30                 0.3                 0.5                         0.5\n",
       "2   01:00                 0.3                 0.5                         0.5\n",
       "3   01:30                 0.3                 0.5                         0.5\n",
       "4   02:00                 0.2                 0.4                         0.5\n",
       "5   02:30                 0.2                 0.4                         5.0\n",
       "6   03:00                 0.2                 0.4                         5.0\n",
       "7   03:30                 0.2                 0.4                         5.0\n",
       "8   04:00                 0.2                 0.4                         0.0\n",
       "9   04:30                 0.2                 0.4                         0.0\n",
       "10  05:00                 0.2                 0.4                         0.0\n",
       "11  05:30                 0.2                 0.4                         0.0\n",
       "12  06:00                 0.2                 0.4                         0.0\n",
       "13  06:30                 0.2                 1.5                         0.0\n",
       "14  07:00                 0.2                 1.5                         0.0\n",
       "15  07:30                 0.2                 1.5                         0.0\n",
       "16  08:00                 0.2                 1.5                         0.0\n",
       "17  08:30                 0.2                 1.5                         0.0\n",
       "18  09:00                 0.2                 0.4                         0.0\n",
       "19  09:30                 0.2                 0.4                         0.0\n",
       "20  10:00                 0.2                 0.4                         0.0\n",
       "21  10:30                 0.2                 0.4                         0.0\n",
       "22  11:00                 0.2                 0.4                         0.0\n",
       "23  11:30                 0.2                 0.4                         0.0\n",
       "24  12:00                 0.2                 0.2                         0.0\n",
       "25  12:30                 0.2                 0.2                         0.0\n",
       "26  13:00                 0.2                 0.2                         0.0\n",
       "27  13:30                 0.2                 0.2                         0.0\n",
       "28  14:00                 0.2                 0.4                         0.0\n",
       "29  14:30                 0.2                 0.4                         5.0\n",
       "30  15:00                 0.2                 0.4                         5.0\n",
       "31  15:30                 0.2                 0.4                         5.0\n",
       "32  16:00                 0.2                 0.4                         0.0\n",
       "33  16:30                 0.2                 0.4                         0.0\n",
       "34  17:00                 0.2                 1.5                         0.0\n",
       "35  17:30                 0.8                 1.5                         0.0\n",
       "36  18:00                 1.2                 2.0                         0.0\n",
       "37  18:30                 1.5                 2.2                         0.0\n",
       "38  19:00                 1.4                 2.0                         0.0\n",
       "39  19:30                 1.2                 1.8                         0.0\n",
       "40  20:00                 0.9                 1.6                         0.0\n",
       "41  20:30                 0.7                 1.4                         0.0\n",
       "42  21:00                 0.5                 0.4                         0.4\n",
       "43  21:30                 0.5                 0.4                         0.4\n",
       "44  22:00                 0.5                 0.4                         0.4\n",
       "45  22:30                 0.5                 0.4                         0.4\n",
       "46  23:00                 0.2                 0.4                         0.4\n",
       "47  23:30                 0.2                 0.5                         0.5"
      ]
     },
     "execution_count": 2106,
     "metadata": {},
     "output_type": "execute_result"
    }
   ],
   "source": [
    "# Read in the household usage data\n",
    "energy = pd.read_csv('household_usage.csv')\n",
    "energy = energy[['Time', 'Standard_Household', 'HeatPump_Household', 'HeatPump_Battery_Household']]\n",
    "energy"
   ]
  },
  {
   "cell_type": "code",
   "execution_count": 2110,
   "id": "7425a52c-b913-4493-9d32-b98c42d55b89",
   "metadata": {},
   "outputs": [
    {
     "data": {
      "text/plain": [
       "<Axes: xlabel='Time', ylabel='kWh'>"
      ]
     },
     "execution_count": 2110,
     "metadata": {},
     "output_type": "execute_result"
    },
    {
     "data": {
      "image/png": "[encoded data removed]",
      "text/plain": [
       "<Figure size 640x480 with 1 Axes>"
      ]
     },
     "metadata": {},
     "output_type": "display_data"
    }
   ],
   "source": [
    "# Plot the timeseries\n",
    "energy.set_index('Time').plot(style='.-', ylabel='kWh')\n"
   ]
  },
  {
   "cell_type": "code",
   "execution_count": 2112,
   "id": "bce14ccd-9594-4cbe-80e5-bc6ce26fe92b",
   "metadata": {},
   "outputs": [
    {
     "data": {
      "text/html": [
       "<div>\n",
       "<style scoped>\n",
       "    .dataframe tbody tr th:only-of-type {\n",
       "        vertical-align: middle;\n",
       "    }\n",
       "\n",
       "    .dataframe tbody tr th {\n",
       "        vertical-align: top;\n",
       "    }\n",
       "\n",
       "    .dataframe thead th {\n",
       "        text-align: right;\n",
       "    }\n",
       "</style>\n",
       "<table border=\"1\" class=\"dataframe\">\n",
       "  <thead>\n",
       "    <tr style=\"text-align: right;\">\n",
       "      <th></th>\n",
       "      <th>Standard_Household</th>\n",
       "      <th>HeatPump_Household</th>\n",
       "      <th>HeatPump_Battery_Household</th>\n",
       "    </tr>\n",
       "  </thead>\n",
       "  <tbody>\n",
       "    <tr>\n",
       "      <th>count</th>\n",
       "      <td>48.000000</td>\n",
       "      <td>48.000000</td>\n",
       "      <td>48.000000</td>\n",
       "    </tr>\n",
       "    <tr>\n",
       "      <th>mean</th>\n",
       "      <td>0.366667</td>\n",
       "      <td>0.735417</td>\n",
       "      <td>0.731250</td>\n",
       "    </tr>\n",
       "    <tr>\n",
       "      <th>std</th>\n",
       "      <td>0.336650</td>\n",
       "      <td>0.584731</td>\n",
       "      <td>1.642152</td>\n",
       "    </tr>\n",
       "    <tr>\n",
       "      <th>min</th>\n",
       "      <td>0.200000</td>\n",
       "      <td>0.200000</td>\n",
       "      <td>0.000000</td>\n",
       "    </tr>\n",
       "    <tr>\n",
       "      <th>25%</th>\n",
       "      <td>0.200000</td>\n",
       "      <td>0.400000</td>\n",
       "      <td>0.000000</td>\n",
       "    </tr>\n",
       "    <tr>\n",
       "      <th>50%</th>\n",
       "      <td>0.200000</td>\n",
       "      <td>0.400000</td>\n",
       "      <td>0.000000</td>\n",
       "    </tr>\n",
       "    <tr>\n",
       "      <th>75%</th>\n",
       "      <td>0.325000</td>\n",
       "      <td>1.425000</td>\n",
       "      <td>0.425000</td>\n",
       "    </tr>\n",
       "    <tr>\n",
       "      <th>max</th>\n",
       "      <td>1.500000</td>\n",
       "      <td>2.200000</td>\n",
       "      <td>5.000000</td>\n",
       "    </tr>\n",
       "  </tbody>\n",
       "</table>\n",
       "</div>"
      ],
      "text/plain": [
       "       Standard_Household  HeatPump_Household  HeatPump_Battery_Household\n",
       "count           48.000000           48.000000                   48.000000\n",
       "mean             0.366667            0.735417                    0.731250\n",
       "std              0.336650            0.584731                    1.642152\n",
       "min              0.200000            0.200000                    0.000000\n",
       "25%              0.200000            0.400000                    0.000000\n",
       "50%              0.200000            0.400000                    0.000000\n",
       "75%              0.325000            1.425000                    0.425000\n",
       "max              1.500000            2.200000                    5.000000"
      ]
     },
     "execution_count": 2112,
     "metadata": {},
     "output_type": "execute_result"
    }
   ],
   "source": [
    "# Get some useful stats\n",
    "energy.set_index('Time').describe()"
   ]
  },
  {
   "cell_type": "code",
   "execution_count": 2114,
   "id": "5690c60c-7e20-4c73-b2bd-1b0202d0ef6c",
   "metadata": {},
   "outputs": [
    {
     "data": {
      "text/html": [
       "<div>\n",
       "<style scoped>\n",
       "    .dataframe tbody tr th:only-of-type {\n",
       "        vertical-align: middle;\n",
       "    }\n",
       "\n",
       "    .dataframe tbody tr th {\n",
       "        vertical-align: top;\n",
       "    }\n",
       "\n",
       "    .dataframe thead th {\n",
       "        text-align: right;\n",
       "    }\n",
       "</style>\n",
       "<table border=\"1\" class=\"dataframe\">\n",
       "  <thead>\n",
       "    <tr style=\"text-align: right;\">\n",
       "      <th></th>\n",
       "      <th>Standard_Household</th>\n",
       "      <th>HeatPump_Household</th>\n",
       "      <th>HeatPump_Battery_Household</th>\n",
       "    </tr>\n",
       "    <tr>\n",
       "      <th>Time</th>\n",
       "      <th></th>\n",
       "      <th></th>\n",
       "      <th></th>\n",
       "    </tr>\n",
       "  </thead>\n",
       "  <tbody>\n",
       "    <tr>\n",
       "      <th>02:30</th>\n",
       "      <td>NaN</td>\n",
       "      <td>NaN</td>\n",
       "      <td>5.0</td>\n",
       "    </tr>\n",
       "    <tr>\n",
       "      <th>03:00</th>\n",
       "      <td>NaN</td>\n",
       "      <td>NaN</td>\n",
       "      <td>5.0</td>\n",
       "    </tr>\n",
       "    <tr>\n",
       "      <th>03:30</th>\n",
       "      <td>NaN</td>\n",
       "      <td>NaN</td>\n",
       "      <td>5.0</td>\n",
       "    </tr>\n",
       "    <tr>\n",
       "      <th>14:30</th>\n",
       "      <td>NaN</td>\n",
       "      <td>NaN</td>\n",
       "      <td>5.0</td>\n",
       "    </tr>\n",
       "    <tr>\n",
       "      <th>15:00</th>\n",
       "      <td>NaN</td>\n",
       "      <td>NaN</td>\n",
       "      <td>5.0</td>\n",
       "    </tr>\n",
       "    <tr>\n",
       "      <th>15:30</th>\n",
       "      <td>NaN</td>\n",
       "      <td>NaN</td>\n",
       "      <td>5.0</td>\n",
       "    </tr>\n",
       "    <tr>\n",
       "      <th>18:30</th>\n",
       "      <td>1.5</td>\n",
       "      <td>2.2</td>\n",
       "      <td>NaN</td>\n",
       "    </tr>\n",
       "  </tbody>\n",
       "</table>\n",
       "</div>"
      ],
      "text/plain": [
       "       Standard_Household  HeatPump_Household  HeatPump_Battery_Household\n",
       "Time                                                                     \n",
       "02:30                 NaN                 NaN                         5.0\n",
       "03:00                 NaN                 NaN                         5.0\n",
       "03:30                 NaN                 NaN                         5.0\n",
       "14:30                 NaN                 NaN                         5.0\n",
       "15:00                 NaN                 NaN                         5.0\n",
       "15:30                 NaN                 NaN                         5.0\n",
       "18:30                 1.5                 2.2                         NaN"
      ]
     },
     "execution_count": 2114,
     "metadata": {},
     "output_type": "execute_result"
    }
   ],
   "source": [
    "# Find the time when the energy consumption is the max\n",
    "e = energy.set_index('Time')\n",
    "e[e==e.max()].dropna(how='all')"
   ]
  },
  {
   "cell_type": "code",
   "execution_count": 2116,
   "id": "b548e165-e993-4ce9-b566-ecd666853255",
   "metadata": {},
   "outputs": [
    {
     "data": {
      "text/plain": [
       "Standard_Household            02:00\n",
       "HeatPump_Household            12:00\n",
       "HeatPump_Battery_Household    04:00\n",
       "dtype: object"
      ]
     },
     "execution_count": 2116,
     "metadata": {},
     "output_type": "execute_result"
    }
   ],
   "source": [
    "# Find the time when the energy consumption is the minimum\n",
    "energy.set_index('Time').idxmin()\n"
   ]
  },
  {
   "cell_type": "code",
   "execution_count": 2118,
   "id": "5d3db4cf-1c78-47b9-abda-5847f842456d",
   "metadata": {},
   "outputs": [
    {
     "data": {
      "text/plain": [
       "Standard_Household            17.6\n",
       "HeatPump_Household            35.3\n",
       "HeatPump_Battery_Household    35.1\n",
       "dtype: float64"
      ]
     },
     "execution_count": 2118,
     "metadata": {},
     "output_type": "execute_result"
    }
   ],
   "source": [
    "# Find the daily energy usage\n",
    "energy.set_index('Time').sum()\n"
   ]
  },
  {
   "cell_type": "markdown",
   "id": "e6f73db9-6c07-4078-aad6-895a539e1c2d",
   "metadata": {},
   "source": [
    "### How do different households use energy at different times of day?"
   ]
  },
  {
   "cell_type": "markdown",
   "id": "e28d46e8-1b92-49c4-97d5-cc4b6ac2f06c",
   "metadata": {},
   "source": [
    "The standard household represents a typical UK home where the consumption is mainly in the evening.\n",
    "The household are likely out during the day at work and return at 5.30pm.\n",
    "There is a base load of 0.2kWh and a peak load of 1.5kWh at 18:30-19:00.\n",
    "The total consumption is ~18kWh."
   ]
  },
  {
   "cell_type": "markdown",
   "id": "031c544f-b6c5-4a20-afcd-90256b98e2f2",
   "metadata": {},
   "source": [
    "The Heat pump household has large peaks in the morning and the evening.\n",
    "This is presumably when the heating/hot water are on. The maximum energy use in a half hour period was 2.2kWh.\n",
    "The total consumption is approximately double the standard household at 35 kWh per day."
   ]
  },
  {
   "cell_type": "markdown",
   "id": "8285e117-0f37-4b4b-a97a-00284f262a39",
   "metadata": {},
   "source": [
    "The Heat Pump battery household has a similar total consuption to the heat pump household but the times of usage are different. If we assume the home usage for the two homes are identical, this suggests that we're modelling a battery that is 100% efficient. That is, all the energy that goes into the battery is available for the home to use.\n",
    "The battery is charged overight and early afternoon (2.30-4pm), presumably when the tariff is cheaper. I've shown in the Tariff section that this is the case.\n",
    "Home usage is zero from 4am until 20:30 when the charge in the battery runs out. \n",
    "The battery charges for 90 mins at 5kWh per 30 mins. So this is probably a ~12-15kWh battery. We could do the full calculation by subtracting the heat pump only usage and suming the remaining energy used between battery charge times. In reality you would expect a battery system to use more due to inverter losses."
   ]
  },
  {
   "cell_type": "markdown",
   "id": "4fbb5cf7-6c95-4a33-871f-a5a4ba63da75",
   "metadata": {},
   "source": [
    "No missing data or outliers seen. Data is for a single day."
   ]
  },
  {
   "cell_type": "markdown",
   "id": "269eff5e-b260-4165-9c18-48aa83718451",
   "metadata": {},
   "source": [
    "## Tariff data"
   ]
  },
  {
   "cell_type": "code",
   "execution_count": 2124,
   "id": "ea5477ff-80ef-4800-b990-3e65bc50af49",
   "metadata": {},
   "outputs": [
    {
     "data": {
      "text/html": [
       "<div>\n",
       "<style scoped>\n",
       "    .dataframe tbody tr th:only-of-type {\n",
       "        vertical-align: middle;\n",
       "    }\n",
       "\n",
       "    .dataframe tbody tr th {\n",
       "        vertical-align: top;\n",
       "    }\n",
       "\n",
       "    .dataframe thead th {\n",
       "        text-align: right;\n",
       "    }\n",
       "</style>\n",
       "<table border=\"1\" class=\"dataframe\">\n",
       "  <thead>\n",
       "    <tr style=\"text-align: right;\">\n",
       "      <th></th>\n",
       "      <th>count</th>\n",
       "      <th>next</th>\n",
       "      <th>previous</th>\n",
       "      <th>results</th>\n",
       "    </tr>\n",
       "  </thead>\n",
       "  <tbody>\n",
       "    <tr>\n",
       "      <th>0</th>\n",
       "      <td>51744</td>\n",
       "      <td>https://api.octopus.energy/v1/products/AGILE-2...</td>\n",
       "      <td>NaN</td>\n",
       "      <td>{'value_exc_vat': 20.95, 'value_inc_vat': 21.9...</td>\n",
       "    </tr>\n",
       "    <tr>\n",
       "      <th>1</th>\n",
       "      <td>51744</td>\n",
       "      <td>https://api.octopus.energy/v1/products/AGILE-2...</td>\n",
       "      <td>NaN</td>\n",
       "      <td>{'value_exc_vat': 21.34, 'value_inc_vat': 22.4...</td>\n",
       "    </tr>\n",
       "    <tr>\n",
       "      <th>2</th>\n",
       "      <td>51744</td>\n",
       "      <td>https://api.octopus.energy/v1/products/AGILE-2...</td>\n",
       "      <td>NaN</td>\n",
       "      <td>{'value_exc_vat': 24.8, 'value_inc_vat': 26.04...</td>\n",
       "    </tr>\n",
       "    <tr>\n",
       "      <th>3</th>\n",
       "      <td>51744</td>\n",
       "      <td>https://api.octopus.energy/v1/products/AGILE-2...</td>\n",
       "      <td>NaN</td>\n",
       "      <td>{'value_exc_vat': 26.68, 'value_inc_vat': 28.0...</td>\n",
       "    </tr>\n",
       "    <tr>\n",
       "      <th>4</th>\n",
       "      <td>51744</td>\n",
       "      <td>https://api.octopus.energy/v1/products/AGILE-2...</td>\n",
       "      <td>NaN</td>\n",
       "      <td>{'value_exc_vat': 26.5, 'value_inc_vat': 27.82...</td>\n",
       "    </tr>\n",
       "    <tr>\n",
       "      <th>...</th>\n",
       "      <td>...</td>\n",
       "      <td>...</td>\n",
       "      <td>...</td>\n",
       "      <td>...</td>\n",
       "    </tr>\n",
       "    <tr>\n",
       "      <th>91</th>\n",
       "      <td>51744</td>\n",
       "      <td>https://api.octopus.energy/v1/products/AGILE-2...</td>\n",
       "      <td>NaN</td>\n",
       "      <td>{'value_exc_vat': 22.26, 'value_inc_vat': 23.3...</td>\n",
       "    </tr>\n",
       "    <tr>\n",
       "      <th>92</th>\n",
       "      <td>51744</td>\n",
       "      <td>https://api.octopus.energy/v1/products/AGILE-2...</td>\n",
       "      <td>NaN</td>\n",
       "      <td>{'value_exc_vat': 20.7, 'value_inc_vat': 21.73...</td>\n",
       "    </tr>\n",
       "    <tr>\n",
       "      <th>93</th>\n",
       "      <td>51744</td>\n",
       "      <td>https://api.octopus.energy/v1/products/AGILE-2...</td>\n",
       "      <td>NaN</td>\n",
       "      <td>{'value_exc_vat': 19.56, 'value_inc_vat': 20.5...</td>\n",
       "    </tr>\n",
       "    <tr>\n",
       "      <th>94</th>\n",
       "      <td>51744</td>\n",
       "      <td>https://api.octopus.energy/v1/products/AGILE-2...</td>\n",
       "      <td>NaN</td>\n",
       "      <td>{'value_exc_vat': 20.56, 'value_inc_vat': 21.5...</td>\n",
       "    </tr>\n",
       "    <tr>\n",
       "      <th>95</th>\n",
       "      <td>51744</td>\n",
       "      <td>https://api.octopus.energy/v1/products/AGILE-2...</td>\n",
       "      <td>NaN</td>\n",
       "      <td>{'value_exc_vat': 19.44, 'value_inc_vat': 20.4...</td>\n",
       "    </tr>\n",
       "  </tbody>\n",
       "</table>\n",
       "<p>96 rows × 4 columns</p>\n",
       "</div>"
      ],
      "text/plain": [
       "    count                                               next  previous  \\\n",
       "0   51744  https://api.octopus.energy/v1/products/AGILE-2...       NaN   \n",
       "1   51744  https://api.octopus.energy/v1/products/AGILE-2...       NaN   \n",
       "2   51744  https://api.octopus.energy/v1/products/AGILE-2...       NaN   \n",
       "3   51744  https://api.octopus.energy/v1/products/AGILE-2...       NaN   \n",
       "4   51744  https://api.octopus.energy/v1/products/AGILE-2...       NaN   \n",
       "..    ...                                                ...       ...   \n",
       "91  51744  https://api.octopus.energy/v1/products/AGILE-2...       NaN   \n",
       "92  51744  https://api.octopus.energy/v1/products/AGILE-2...       NaN   \n",
       "93  51744  https://api.octopus.energy/v1/products/AGILE-2...       NaN   \n",
       "94  51744  https://api.octopus.energy/v1/products/AGILE-2...       NaN   \n",
       "95  51744  https://api.octopus.energy/v1/products/AGILE-2...       NaN   \n",
       "\n",
       "                                              results  \n",
       "0   {'value_exc_vat': 20.95, 'value_inc_vat': 21.9...  \n",
       "1   {'value_exc_vat': 21.34, 'value_inc_vat': 22.4...  \n",
       "2   {'value_exc_vat': 24.8, 'value_inc_vat': 26.04...  \n",
       "3   {'value_exc_vat': 26.68, 'value_inc_vat': 28.0...  \n",
       "4   {'value_exc_vat': 26.5, 'value_inc_vat': 27.82...  \n",
       "..                                                ...  \n",
       "91  {'value_exc_vat': 22.26, 'value_inc_vat': 23.3...  \n",
       "92  {'value_exc_vat': 20.7, 'value_inc_vat': 21.73...  \n",
       "93  {'value_exc_vat': 19.56, 'value_inc_vat': 20.5...  \n",
       "94  {'value_exc_vat': 20.56, 'value_inc_vat': 21.5...  \n",
       "95  {'value_exc_vat': 19.44, 'value_inc_vat': 20.4...  \n",
       "\n",
       "[96 rows x 4 columns]"
      ]
     },
     "execution_count": 2124,
     "metadata": {},
     "output_type": "execute_result"
    }
   ],
   "source": [
    "# Read in tariff data\n",
    "tariff = pd.read_json('agile_price_example.json')\n",
    "tariff\n"
   ]
  },
  {
   "cell_type": "code",
   "execution_count": 2126,
   "id": "09e2d6e2-2b50-4277-846c-29a03a8b854d",
   "metadata": {},
   "outputs": [
    {
     "data": {
      "text/html": [
       "<div>\n",
       "<style scoped>\n",
       "    .dataframe tbody tr th:only-of-type {\n",
       "        vertical-align: middle;\n",
       "    }\n",
       "\n",
       "    .dataframe tbody tr th {\n",
       "        vertical-align: top;\n",
       "    }\n",
       "\n",
       "    .dataframe thead th {\n",
       "        text-align: right;\n",
       "    }\n",
       "</style>\n",
       "<table border=\"1\" class=\"dataframe\">\n",
       "  <thead>\n",
       "    <tr style=\"text-align: right;\">\n",
       "      <th></th>\n",
       "      <th>tariff</th>\n",
       "    </tr>\n",
       "  </thead>\n",
       "  <tbody>\n",
       "    <tr>\n",
       "      <th>2025-03-11 23:00:00+00:00</th>\n",
       "      <td>20.4120</td>\n",
       "    </tr>\n",
       "    <tr>\n",
       "      <th>2025-03-11 23:30:00+00:00</th>\n",
       "      <td>21.5880</td>\n",
       "    </tr>\n",
       "    <tr>\n",
       "      <th>2025-03-12 00:00:00+00:00</th>\n",
       "      <td>20.5380</td>\n",
       "    </tr>\n",
       "    <tr>\n",
       "      <th>2025-03-12 00:30:00+00:00</th>\n",
       "      <td>21.7350</td>\n",
       "    </tr>\n",
       "    <tr>\n",
       "      <th>2025-03-12 01:00:00+00:00</th>\n",
       "      <td>23.3730</td>\n",
       "    </tr>\n",
       "    <tr>\n",
       "      <th>...</th>\n",
       "      <td>...</td>\n",
       "    </tr>\n",
       "    <tr>\n",
       "      <th>2025-03-13 20:30:00+00:00</th>\n",
       "      <td>27.8250</td>\n",
       "    </tr>\n",
       "    <tr>\n",
       "      <th>2025-03-13 21:00:00+00:00</th>\n",
       "      <td>28.0140</td>\n",
       "    </tr>\n",
       "    <tr>\n",
       "      <th>2025-03-13 21:30:00+00:00</th>\n",
       "      <td>26.0400</td>\n",
       "    </tr>\n",
       "    <tr>\n",
       "      <th>2025-03-13 22:00:00+00:00</th>\n",
       "      <td>22.4070</td>\n",
       "    </tr>\n",
       "    <tr>\n",
       "      <th>2025-03-13 22:30:00+00:00</th>\n",
       "      <td>21.9975</td>\n",
       "    </tr>\n",
       "  </tbody>\n",
       "</table>\n",
       "<p>96 rows × 1 columns</p>\n",
       "</div>"
      ],
      "text/plain": [
       "                            tariff\n",
       "2025-03-11 23:00:00+00:00  20.4120\n",
       "2025-03-11 23:30:00+00:00  21.5880\n",
       "2025-03-12 00:00:00+00:00  20.5380\n",
       "2025-03-12 00:30:00+00:00  21.7350\n",
       "2025-03-12 01:00:00+00:00  23.3730\n",
       "...                            ...\n",
       "2025-03-13 20:30:00+00:00  27.8250\n",
       "2025-03-13 21:00:00+00:00  28.0140\n",
       "2025-03-13 21:30:00+00:00  26.0400\n",
       "2025-03-13 22:00:00+00:00  22.4070\n",
       "2025-03-13 22:30:00+00:00  21.9975\n",
       "\n",
       "[96 rows x 1 columns]"
      ]
     },
     "execution_count": 2126,
     "metadata": {},
     "output_type": "execute_result"
    }
   ],
   "source": [
    "# Extract the datetime and prices that include VAT\n",
    "valid_from = [x['valid_from'] for x in tariff['results']]\n",
    "valid_from = pd.to_datetime(pd.Series(valid_from))\n",
    "value_inc_vat = [x['value_inc_vat'] for x in tariff['results']]\n",
    "prices = pd.DataFrame(value_inc_vat, index=valid_from).sort_index()\n",
    "prices.columns=['tariff']\n",
    "prices"
   ]
  },
  {
   "cell_type": "code",
   "execution_count": 2128,
   "id": "0f459d99-cea1-4e10-81c3-d777b694020c",
   "metadata": {},
   "outputs": [
    {
     "data": {
      "text/html": [
       "<div>\n",
       "<style scoped>\n",
       "    .dataframe tbody tr th:only-of-type {\n",
       "        vertical-align: middle;\n",
       "    }\n",
       "\n",
       "    .dataframe tbody tr th {\n",
       "        vertical-align: top;\n",
       "    }\n",
       "\n",
       "    .dataframe thead th {\n",
       "        text-align: right;\n",
       "    }\n",
       "</style>\n",
       "<table border=\"1\" class=\"dataframe\">\n",
       "  <thead>\n",
       "    <tr style=\"text-align: right;\">\n",
       "      <th></th>\n",
       "      <th>tariff</th>\n",
       "    </tr>\n",
       "  </thead>\n",
       "  <tbody>\n",
       "    <tr>\n",
       "      <th>count</th>\n",
       "      <td>96.000000</td>\n",
       "    </tr>\n",
       "    <tr>\n",
       "      <th>mean</th>\n",
       "      <td>25.921109</td>\n",
       "    </tr>\n",
       "    <tr>\n",
       "      <th>std</th>\n",
       "      <td>7.228227</td>\n",
       "    </tr>\n",
       "    <tr>\n",
       "      <th>min</th>\n",
       "      <td>18.595500</td>\n",
       "    </tr>\n",
       "    <tr>\n",
       "      <th>25%</th>\n",
       "      <td>21.110250</td>\n",
       "    </tr>\n",
       "    <tr>\n",
       "      <th>50%</th>\n",
       "      <td>23.425500</td>\n",
       "    </tr>\n",
       "    <tr>\n",
       "      <th>75%</th>\n",
       "      <td>27.604500</td>\n",
       "    </tr>\n",
       "    <tr>\n",
       "      <th>max</th>\n",
       "      <td>48.363000</td>\n",
       "    </tr>\n",
       "  </tbody>\n",
       "</table>\n",
       "</div>"
      ],
      "text/plain": [
       "          tariff\n",
       "count  96.000000\n",
       "mean   25.921109\n",
       "std     7.228227\n",
       "min    18.595500\n",
       "25%    21.110250\n",
       "50%    23.425500\n",
       "75%    27.604500\n",
       "max    48.363000"
      ]
     },
     "execution_count": 2128,
     "metadata": {},
     "output_type": "execute_result"
    }
   ],
   "source": [
    "prices.describe()"
   ]
  },
  {
   "cell_type": "code",
   "execution_count": 2130,
   "id": "afdf5100-faf2-4929-849d-5586da926c28",
   "metadata": {},
   "outputs": [
    {
     "data": {
      "text/plain": [
       "<Axes: ylabel='p/kWh'>"
      ]
     },
     "execution_count": 2130,
     "metadata": {},
     "output_type": "execute_result"
    },
    {
     "data": {
      "image/png": "[encoded data removed]",
      "text/plain": [
       "<Figure size 640x480 with 1 Axes>"
      ]
     },
     "metadata": {},
     "output_type": "display_data"
    }
   ],
   "source": [
    "prices.plot(ylabel='p/kWh')"
   ]
  },
  {
   "cell_type": "markdown",
   "id": "52b314f8-5157-4a1b-850f-5cd8fe380372",
   "metadata": {},
   "source": [
    "We have data from Tues 11/3/25 23:00 to Thu 13/3/25 23:00. So 48 hours but not quite 2 full days. The pattern in the two days is similar but slightly different. There's a peak in the morning and a larger peak in the evening around 6pm when people use most energy. "
   ]
  },
  {
   "cell_type": "code",
   "execution_count": 2133,
   "id": "4e7ad0de-b21e-417e-9041-ae92e0ad80c9",
   "metadata": {},
   "outputs": [
    {
     "data": {
      "text/plain": [
       "date\n",
       "2025-03-11    Axes(0.125,0.11;0.775x0.77)\n",
       "2025-03-12    Axes(0.125,0.11;0.775x0.77)\n",
       "2025-03-13    Axes(0.125,0.11;0.775x0.77)\n",
       "Name: tariff, dtype: object"
      ]
     },
     "execution_count": 2133,
     "metadata": {},
     "output_type": "execute_result"
    },
    {
     "data": {
      "image/png": "[encoded data removed]",
      "text/plain": [
       "<Figure size 640x480 with 1 Axes>"
      ]
     },
     "metadata": {},
     "output_type": "display_data"
    }
   ],
   "source": [
    "# Overplot the data \n",
    "prices['date']=prices.index.date\n",
    "prices['time']=prices.index.time\n",
    "prices.set_index('time').groupby(['date'])['tariff'].plot(legend=True, ylabel='p/kWh')"
   ]
  },
  {
   "cell_type": "markdown",
   "id": "3951f5f3-0c47-4bfa-816e-70be419b7e05",
   "metadata": {},
   "source": [
    "The amplitude slightly differs between the two days, particularly the morning peak and the afternoon baseline. Peak price is around 48p/kWh and minimum price is around 19p/kWh on both days. NB These are both weekdays\n"
   ]
  },
  {
   "cell_type": "markdown",
   "id": "71334dbe-fd4a-4547-bd0f-70a8895e5ba7",
   "metadata": {},
   "source": [
    "No missing data or outliers seen. \n"
   ]
  },
  {
   "cell_type": "markdown",
   "id": "4eefab0c-f4b6-4a3c-bb53-17599eabbbc4",
   "metadata": {},
   "source": [
    "## Flexibility Event data"
   ]
  },
  {
   "cell_type": "code",
   "execution_count": 2136,
   "id": "d65f90af-b2fd-4ec6-8108-a8c40c20b96c",
   "metadata": {},
   "outputs": [
    {
     "data": {
      "text/html": [
       "<div>\n",
       "<style scoped>\n",
       "    .dataframe tbody tr th:only-of-type {\n",
       "        vertical-align: middle;\n",
       "    }\n",
       "\n",
       "    .dataframe tbody tr th {\n",
       "        vertical-align: top;\n",
       "    }\n",
       "\n",
       "    .dataframe thead th {\n",
       "        text-align: right;\n",
       "    }\n",
       "</style>\n",
       "<table border=\"1\" class=\"dataframe\">\n",
       "  <thead>\n",
       "    <tr style=\"text-align: right;\">\n",
       "      <th></th>\n",
       "      <th>flexibility_opportunities</th>\n",
       "    </tr>\n",
       "  </thead>\n",
       "  <tbody>\n",
       "    <tr>\n",
       "      <th>0</th>\n",
       "      <td>{'event_type': 'demand_turn_down', 'start_time...</td>\n",
       "    </tr>\n",
       "    <tr>\n",
       "      <th>1</th>\n",
       "      <td>{'event_type': 'demand_turn_up', 'start_time':...</td>\n",
       "    </tr>\n",
       "  </tbody>\n",
       "</table>\n",
       "</div>"
      ],
      "text/plain": [
       "                           flexibility_opportunities\n",
       "0  {'event_type': 'demand_turn_down', 'start_time...\n",
       "1  {'event_type': 'demand_turn_up', 'start_time':..."
      ]
     },
     "execution_count": 2136,
     "metadata": {},
     "output_type": "execute_result"
    }
   ],
   "source": [
    "# Read in flexibilty data\n",
    "flex = pd.read_json('flexibility_opportunity.json')\n",
    "flex"
   ]
  },
  {
   "cell_type": "code",
   "execution_count": 2138,
   "id": "48dacb60-46c5-440f-94d6-ce8f3369c5e5",
   "metadata": {},
   "outputs": [
    {
     "data": {
      "text/html": [
       "<div>\n",
       "<style scoped>\n",
       "    .dataframe tbody tr th:only-of-type {\n",
       "        vertical-align: middle;\n",
       "    }\n",
       "\n",
       "    .dataframe tbody tr th {\n",
       "        vertical-align: top;\n",
       "    }\n",
       "\n",
       "    .dataframe thead th {\n",
       "        text-align: right;\n",
       "    }\n",
       "</style>\n",
       "<table border=\"1\" class=\"dataframe\">\n",
       "  <thead>\n",
       "    <tr style=\"text-align: right;\">\n",
       "      <th></th>\n",
       "      <th>event_type</th>\n",
       "      <th>start_time</th>\n",
       "      <th>end_time</th>\n",
       "      <th>price_per_kWh</th>\n",
       "      <th>min_flexibility_kWh</th>\n",
       "      <th>max_flexibility_kWh</th>\n",
       "    </tr>\n",
       "  </thead>\n",
       "  <tbody>\n",
       "    <tr>\n",
       "      <th>0</th>\n",
       "      <td>demand_turn_down</td>\n",
       "      <td>18:00</td>\n",
       "      <td>19:30</td>\n",
       "      <td>1.5</td>\n",
       "      <td>1.0</td>\n",
       "      <td>5.0</td>\n",
       "    </tr>\n",
       "    <tr>\n",
       "      <th>1</th>\n",
       "      <td>demand_turn_up</td>\n",
       "      <td>02:00</td>\n",
       "      <td>04:00</td>\n",
       "      <td>0.5</td>\n",
       "      <td>0.5</td>\n",
       "      <td>3.0</td>\n",
       "    </tr>\n",
       "  </tbody>\n",
       "</table>\n",
       "</div>"
      ],
      "text/plain": [
       "         event_type start_time end_time  price_per_kWh  min_flexibility_kWh  \\\n",
       "0  demand_turn_down      18:00    19:30            1.5                  1.0   \n",
       "1    demand_turn_up      02:00    04:00            0.5                  0.5   \n",
       "\n",
       "   max_flexibility_kWh  \n",
       "0                  5.0  \n",
       "1                  3.0  "
      ]
     },
     "execution_count": 2138,
     "metadata": {},
     "output_type": "execute_result"
    }
   ],
   "source": [
    "flex = pd.json_normalize(flex['flexibility_opportunities'])\n",
    "flex"
   ]
  },
  {
   "cell_type": "code",
   "execution_count": 2140,
   "id": "9bdd342d-9a8f-4afa-bccd-47a92fa94873",
   "metadata": {},
   "outputs": [
    {
     "data": {
      "text/plain": [
       "0    7.5\n",
       "1    1.5\n",
       "dtype: float64"
      ]
     },
     "execution_count": 2140,
     "metadata": {},
     "output_type": "execute_result"
    }
   ],
   "source": [
    "# Calculate the maximum return from each event\n",
    "flex['price_per_kWh']*flex['max_flexibility_kWh']"
   ]
  },
  {
   "cell_type": "markdown",
   "id": "ee41f4bf-9442-4981-919f-384af2529514",
   "metadata": {},
   "source": [
    "There are two events specified - a turn down (reduce consumption) and a turn up (use excess grid energy). Turn down is more lucrative and could earn £7.50 if the maximum energy is saved (5kWh). If you could combine the two, i.e. move your energy use from the turn down time to the turn up time, a householder could earn £9. "
   ]
  },
  {
   "cell_type": "markdown",
   "id": "13f7579a-adf1-43bc-97d2-053cbcbfbd06",
   "metadata": {},
   "source": [
    "The minimum flexibility for a turn down event is 1 kWh, so just shifting appliances like washing machine/oven/tumble dryer may be enough to earn a little. However, hot water and space heating are more reliably shifted with less disruption to the householder as they can be controlled automatically and have larger capacity for shifting energy. "
   ]
  },
  {
   "cell_type": "markdown",
   "id": "8a1935f7-1802-44c2-8fee-c066a7e3dc15",
   "metadata": {},
   "source": [
    "## Load shifting potential"
   ]
  },
  {
   "cell_type": "code",
   "execution_count": 2144,
   "id": "932e7532-3f3b-4743-b87f-8d5cfdd1fb42",
   "metadata": {},
   "outputs": [],
   "source": [
    "# Merge the datasets\n",
    "energy['time'] = pd.to_datetime(flex_energy['Time'], format= '%H:%M:%S').dt.time\n",
    "p=prices.groupby(['date', 'time']).max().unstack(level=0).droplevel(level=0, axis=1)\n",
    "flex_pot = pd.merge(energy, p, on=\"time\")\n",
    "flex_pot.columns=['Time', 'Standard_Household', 'HeatPump_Household', 'HeatPump_Battery_Household', 'time','2025-03-11', '2025-03-12', '2025-03-13']"
   ]
  },
  {
   "cell_type": "code",
   "execution_count": 2146,
   "id": "68ca36d4-52f2-4279-a7bb-9d04442ba5f0",
   "metadata": {},
   "outputs": [
    {
     "data": {
      "text/plain": [
       "(10.0, 60.0)"
      ]
     },
     "execution_count": 2146,
     "metadata": {},
     "output_type": "execute_result"
    },
    {
     "data": {
      "image/png": "[encoded data removed]",
      "text/plain": [
       "<Figure size 640x480 with 2 Axes>"
      ]
     },
     "metadata": {},
     "output_type": "display_data"
    }
   ],
   "source": [
    "# Plot the tariff and energy use\n",
    "ax = flex_pot.set_index('time').plot(ylabel='kWh', color=['C0', 'C1', 'C2', 'black', 'black', 'black'], secondary_y=['Standard_Household', 'HeatPump_Household', 'HeatPump_Battery_Household'])\n",
    "ax.set_ylabel('p/kWh')\n",
    "ax.set_ylim(10,60)\n",
    "\n"
   ]
  },
  {
   "cell_type": "markdown",
   "id": "e57c0f27-0a27-4f50-a508-b7c11aab123b",
   "metadata": {},
   "source": [
    "The plot above shows the potential for saving through load shifting.\n",
    "As we expected, the times when the battery charges are when the tariff is low, and just before the evening peak. This will help the battery last as long as possible over the most expensive time.\n",
    "When the price is most expensive, in the evening, both the Standard and Heat pump households have their highest consumption. \n",
    "They could save money by shifting away from this time. The heat pump household has a higher consumption so more to gain.\n",
    "The heat pump household also uses a lot of energy during the morning peak. Therefore the heatpump household has the most to gain from load shifting."
   ]
  },
  {
   "cell_type": "code",
   "execution_count": 2148,
   "id": "f7ed6c99-f91b-4f08-bb21-7cef04e5494a",
   "metadata": {},
   "outputs": [
    {
     "data": {
      "text/html": [
       "<div>\n",
       "<style scoped>\n",
       "    .dataframe tbody tr th:only-of-type {\n",
       "        vertical-align: middle;\n",
       "    }\n",
       "\n",
       "    .dataframe tbody tr th {\n",
       "        vertical-align: top;\n",
       "    }\n",
       "\n",
       "    .dataframe thead th {\n",
       "        text-align: right;\n",
       "    }\n",
       "</style>\n",
       "<table border=\"1\" class=\"dataframe\">\n",
       "  <thead>\n",
       "    <tr style=\"text-align: right;\">\n",
       "      <th></th>\n",
       "      <th>Time</th>\n",
       "      <th>Standard_Household</th>\n",
       "      <th>HeatPump_Household</th>\n",
       "      <th>HeatPump_Battery_Household</th>\n",
       "      <th>time</th>\n",
       "      <th>2025-03-11</th>\n",
       "      <th>2025-03-12</th>\n",
       "      <th>2025-03-13</th>\n",
       "    </tr>\n",
       "  </thead>\n",
       "  <tbody>\n",
       "    <tr>\n",
       "      <th>0</th>\n",
       "      <td>00:00</td>\n",
       "      <td>0.4</td>\n",
       "      <td>0.6</td>\n",
       "      <td>0.6</td>\n",
       "      <td>00:00:00</td>\n",
       "      <td>NaN</td>\n",
       "      <td>20.538</td>\n",
       "      <td>20.7375</td>\n",
       "    </tr>\n",
       "    <tr>\n",
       "      <th>1</th>\n",
       "      <td>00:30</td>\n",
       "      <td>0.3</td>\n",
       "      <td>0.5</td>\n",
       "      <td>0.5</td>\n",
       "      <td>00:30:00</td>\n",
       "      <td>NaN</td>\n",
       "      <td>21.735</td>\n",
       "      <td>22.7220</td>\n",
       "    </tr>\n",
       "    <tr>\n",
       "      <th>2</th>\n",
       "      <td>01:00</td>\n",
       "      <td>0.3</td>\n",
       "      <td>0.5</td>\n",
       "      <td>0.5</td>\n",
       "      <td>01:00:00</td>\n",
       "      <td>NaN</td>\n",
       "      <td>23.373</td>\n",
       "      <td>21.1575</td>\n",
       "    </tr>\n",
       "    <tr>\n",
       "      <th>3</th>\n",
       "      <td>01:30</td>\n",
       "      <td>0.3</td>\n",
       "      <td>0.5</td>\n",
       "      <td>0.5</td>\n",
       "      <td>01:30:00</td>\n",
       "      <td>NaN</td>\n",
       "      <td>20.748</td>\n",
       "      <td>20.8635</td>\n",
       "    </tr>\n",
       "    <tr>\n",
       "      <th>4</th>\n",
       "      <td>02:00</td>\n",
       "      <td>0.2</td>\n",
       "      <td>0.4</td>\n",
       "      <td>0.5</td>\n",
       "      <td>02:00:00</td>\n",
       "      <td>NaN</td>\n",
       "      <td>22.218</td>\n",
       "      <td>20.7375</td>\n",
       "    </tr>\n",
       "  </tbody>\n",
       "</table>\n",
       "</div>"
      ],
      "text/plain": [
       "    Time  Standard_Household  HeatPump_Household  HeatPump_Battery_Household  \\\n",
       "0  00:00                 0.4                 0.6                         0.6   \n",
       "1  00:30                 0.3                 0.5                         0.5   \n",
       "2  01:00                 0.3                 0.5                         0.5   \n",
       "3  01:30                 0.3                 0.5                         0.5   \n",
       "4  02:00                 0.2                 0.4                         0.5   \n",
       "\n",
       "       time  2025-03-11  2025-03-12  2025-03-13  \n",
       "0  00:00:00         NaN      20.538     20.7375  \n",
       "1  00:30:00         NaN      21.735     22.7220  \n",
       "2  01:00:00         NaN      23.373     21.1575  \n",
       "3  01:30:00         NaN      20.748     20.8635  \n",
       "4  02:00:00         NaN      22.218     20.7375  "
      ]
     },
     "execution_count": 2148,
     "metadata": {},
     "output_type": "execute_result"
    }
   ],
   "source": [
    "flex_pot.head()"
   ]
  },
  {
   "cell_type": "markdown",
   "id": "4b60f1f2-2fc4-49f5-b4a9-66ee07319bbc",
   "metadata": {},
   "source": [
    "## Home Energy Cost"
   ]
  },
  {
   "cell_type": "code",
   "execution_count": 2150,
   "id": "35c36a82-f8d8-4579-985d-7fe5c4bdfbb5",
   "metadata": {},
   "outputs": [
    {
     "data": {
      "text/html": [
       "<div>\n",
       "<style scoped>\n",
       "    .dataframe tbody tr th:only-of-type {\n",
       "        vertical-align: middle;\n",
       "    }\n",
       "\n",
       "    .dataframe tbody tr th {\n",
       "        vertical-align: top;\n",
       "    }\n",
       "\n",
       "    .dataframe thead th {\n",
       "        text-align: right;\n",
       "    }\n",
       "</style>\n",
       "<table border=\"1\" class=\"dataframe\">\n",
       "  <thead>\n",
       "    <tr style=\"text-align: right;\">\n",
       "      <th></th>\n",
       "      <th>Time</th>\n",
       "      <th>Standard_Household</th>\n",
       "      <th>HeatPump_Household</th>\n",
       "      <th>HeatPump_Battery_Household</th>\n",
       "      <th>time</th>\n",
       "      <th>2025-03-11</th>\n",
       "      <th>2025-03-12</th>\n",
       "      <th>2025-03-13</th>\n",
       "      <th>SH_ag_cost</th>\n",
       "      <th>HP_ag_cost</th>\n",
       "      <th>HPB_ag_cost</th>\n",
       "      <th>SH_ft_cost</th>\n",
       "      <th>HP_ft_cost</th>\n",
       "      <th>HPB_ft_cost</th>\n",
       "    </tr>\n",
       "  </thead>\n",
       "  <tbody>\n",
       "    <tr>\n",
       "      <th>0</th>\n",
       "      <td>00:00</td>\n",
       "      <td>0.4</td>\n",
       "      <td>0.6</td>\n",
       "      <td>0.6</td>\n",
       "      <td>00:00:00</td>\n",
       "      <td>NaN</td>\n",
       "      <td>20.538</td>\n",
       "      <td>20.7375</td>\n",
       "      <td>0.082152</td>\n",
       "      <td>0.123228</td>\n",
       "      <td>0.123228</td>\n",
       "      <td>0.10812</td>\n",
       "      <td>0.16218</td>\n",
       "      <td>0.16218</td>\n",
       "    </tr>\n",
       "    <tr>\n",
       "      <th>1</th>\n",
       "      <td>00:30</td>\n",
       "      <td>0.3</td>\n",
       "      <td>0.5</td>\n",
       "      <td>0.5</td>\n",
       "      <td>00:30:00</td>\n",
       "      <td>NaN</td>\n",
       "      <td>21.735</td>\n",
       "      <td>22.7220</td>\n",
       "      <td>0.065205</td>\n",
       "      <td>0.108675</td>\n",
       "      <td>0.108675</td>\n",
       "      <td>0.08109</td>\n",
       "      <td>0.13515</td>\n",
       "      <td>0.13515</td>\n",
       "    </tr>\n",
       "    <tr>\n",
       "      <th>2</th>\n",
       "      <td>01:00</td>\n",
       "      <td>0.3</td>\n",
       "      <td>0.5</td>\n",
       "      <td>0.5</td>\n",
       "      <td>01:00:00</td>\n",
       "      <td>NaN</td>\n",
       "      <td>23.373</td>\n",
       "      <td>21.1575</td>\n",
       "      <td>0.070119</td>\n",
       "      <td>0.116865</td>\n",
       "      <td>0.116865</td>\n",
       "      <td>0.08109</td>\n",
       "      <td>0.13515</td>\n",
       "      <td>0.13515</td>\n",
       "    </tr>\n",
       "    <tr>\n",
       "      <th>3</th>\n",
       "      <td>01:30</td>\n",
       "      <td>0.3</td>\n",
       "      <td>0.5</td>\n",
       "      <td>0.5</td>\n",
       "      <td>01:30:00</td>\n",
       "      <td>NaN</td>\n",
       "      <td>20.748</td>\n",
       "      <td>20.8635</td>\n",
       "      <td>0.062244</td>\n",
       "      <td>0.103740</td>\n",
       "      <td>0.103740</td>\n",
       "      <td>0.08109</td>\n",
       "      <td>0.13515</td>\n",
       "      <td>0.13515</td>\n",
       "    </tr>\n",
       "    <tr>\n",
       "      <th>4</th>\n",
       "      <td>02:00</td>\n",
       "      <td>0.2</td>\n",
       "      <td>0.4</td>\n",
       "      <td>0.5</td>\n",
       "      <td>02:00:00</td>\n",
       "      <td>NaN</td>\n",
       "      <td>22.218</td>\n",
       "      <td>20.7375</td>\n",
       "      <td>0.044436</td>\n",
       "      <td>0.088872</td>\n",
       "      <td>0.111090</td>\n",
       "      <td>0.05406</td>\n",
       "      <td>0.10812</td>\n",
       "      <td>0.13515</td>\n",
       "    </tr>\n",
       "  </tbody>\n",
       "</table>\n",
       "</div>"
      ],
      "text/plain": [
       "    Time  Standard_Household  HeatPump_Household  HeatPump_Battery_Household  \\\n",
       "0  00:00                 0.4                 0.6                         0.6   \n",
       "1  00:30                 0.3                 0.5                         0.5   \n",
       "2  01:00                 0.3                 0.5                         0.5   \n",
       "3  01:30                 0.3                 0.5                         0.5   \n",
       "4  02:00                 0.2                 0.4                         0.5   \n",
       "\n",
       "       time  2025-03-11  2025-03-12  2025-03-13  SH_ag_cost  HP_ag_cost  \\\n",
       "0  00:00:00         NaN      20.538     20.7375    0.082152    0.123228   \n",
       "1  00:30:00         NaN      21.735     22.7220    0.065205    0.108675   \n",
       "2  01:00:00         NaN      23.373     21.1575    0.070119    0.116865   \n",
       "3  01:30:00         NaN      20.748     20.8635    0.062244    0.103740   \n",
       "4  02:00:00         NaN      22.218     20.7375    0.044436    0.088872   \n",
       "\n",
       "   HPB_ag_cost  SH_ft_cost  HP_ft_cost  HPB_ft_cost  \n",
       "0     0.123228     0.10812     0.16218      0.16218  \n",
       "1     0.108675     0.08109     0.13515      0.13515  \n",
       "2     0.116865     0.08109     0.13515      0.13515  \n",
       "3     0.103740     0.08109     0.13515      0.13515  \n",
       "4     0.111090     0.05406     0.10812      0.13515  "
      ]
     },
     "execution_count": 2150,
     "metadata": {},
     "output_type": "execute_result"
    }
   ],
   "source": [
    "# Calculate the cost in £ assuming the usage data is from 13/3/2025\n",
    "flex_pot['SH_ag_cost'] = flex_pot['Standard_Household']*flex_pot['2025-03-12']/100\n",
    "flex_pot['HP_ag_cost'] = flex_pot['HeatPump_Household']*flex_pot['2025-03-12']/100\n",
    "flex_pot['HPB_ag_cost'] = flex_pot['HeatPump_Battery_Household']*flex_pot['2025-03-12']/100\n",
    "# Current Ofgem price cap (1 April to 30 June 2025 )\n",
    "flat_tariff = 27.03\n",
    "flex_pot['SH_ft_cost'] = flex_pot['Standard_Household']*flat_tariff/100\n",
    "flex_pot['HP_ft_cost'] = flex_pot['HeatPump_Household']*flat_tariff/100\n",
    "flex_pot['HPB_ft_cost'] = flex_pot['HeatPump_Battery_Household']*flat_tariff/100\n",
    "\n",
    "flex_pot.head()"
   ]
  },
  {
   "cell_type": "code",
   "execution_count": 2152,
   "id": "9783fbba-13d0-4328-899b-154d007bb508",
   "metadata": {},
   "outputs": [
    {
     "data": {
      "image/png": "[encoded data removed]",
      "text/plain": [
       "<Figure size 640x480 with 1 Axes>"
      ]
     },
     "metadata": {},
     "output_type": "display_data"
    }
   ],
   "source": [
    "# Plot the daily cost for each household under agile tariff\n",
    "ax = flex_pot[['SH_ag_cost','HP_ag_cost','HPB_ag_cost']].sum().plot.bar(ylabel='£')\n",
    "plt.xticks(rotation=0)\n",
    "for c in ax.containers: ax.bar_label(c, fmt='%.1f', label_type='edge')\n"
   ]
  },
  {
   "cell_type": "markdown",
   "id": "8e175c4e-b94e-4601-86d6-425e51946acf",
   "metadata": {},
   "source": [
    "The plot shows that a heat pump home could save around £3 per day from using a battery to shift the load from peak to off peak times under the agile tariff."
   ]
  },
  {
   "cell_type": "code",
   "execution_count": 2155,
   "id": "8a832413-91f5-47d4-925e-a701813b19bc",
   "metadata": {},
   "outputs": [
    {
     "data": {
      "image/png": "[encoded data removed]",
      "text/plain": [
       "<Figure size 640x480 with 1 Axes>"
      ]
     },
     "metadata": {},
     "output_type": "display_data"
    }
   ],
   "source": [
    "# Plot the daily cost for each household under agile tariff\n",
    "ax = flex_pot[['SH_ft_cost','HP_ft_cost','HPB_ft_cost']].sum().plot.bar(ylabel='£')\n",
    "plt.xticks(rotation=0)\n",
    "for c in ax.containers: ax.bar_label(c, fmt='%.1f', label_type='edge')"
   ]
  },
  {
   "cell_type": "markdown",
   "id": "0fe8dd0e-3aca-44d1-b162-fdce87acb2d3",
   "metadata": {},
   "source": [
    "The standard and heat pump homes would pay slightly less under the flat tariff. The heat pump homes with and without the battery have the same cost under the flat tariff (they have the same energy usage as noted above). A heat pump home with a battery moving from a flat tariff to an agile one would save about £2 per day."
   ]
  },
  {
   "cell_type": "markdown",
   "id": "a049014f-c21b-4e32-8aef-c61486c399f3",
   "metadata": {},
   "source": [
    "## Flexibility Provider insights"
   ]
  },
  {
   "cell_type": "markdown",
   "id": "88be47e8-e9f5-4755-abe2-a2ac4c47617c",
   "metadata": {},
   "source": [
    "A flexibility provider could make the following conclusions based on this data:\n",
    "* Battery systems are already likely to be optimised for charging at low demand times and discharging at high tariff times. Therefore they may not be so suited for turn-down events. But they could be very useful for turn-up events. They may be able to react more quickly and have more capacity for energy storage than heat pump systems.\n",
    "* Heat pumps offer the most turn-down potential, as they could shift their heating/hot water earlier particularly at the evening peak time, if there is enough warning. They have the capacity to turn-down more than the standard households. \n",
    "* Heat pump homes and standard homes with hot water tanks also have the potential for turn-up events as they could store some energy in the tank.\n"
   ]
  },
  {
   "cell_type": "markdown",
   "id": "f34b3adb-3c44-4987-99e4-fedd96d029ee",
   "metadata": {},
   "source": [
    "# 2. Recomending when to shift energy use "
   ]
  },
  {
   "cell_type": "markdown",
   "id": "f5127067-6096-4708-bae3-e49b44ba7df5",
   "metadata": {},
   "source": [
    "Imagine we have a flexible load that consumes energy. Under an agile tariff, it can be cost effective to shift this load in time if the scheduled time is during a high tariff period. The larger the load, the more cost effective it is to shift it. So lets consider devices like hot water heaters and tumble dryers.\n",
    "\n",
    "We can specify the ideal time we would like this load to start, the average power of the device and the duration it is on for. We can then calculate the cost of using the device at this time and at other times, and see which gives the best savings. However some times may less convenient than others. We can take this into consideration by defining a cost function that penalises for inconvenience. In this scenario we consider the following criteria:\n",
    "* The householder doesn't want the device on at night (11pm-6am). A large cost penalty is applied.\n",
    "* The further away from the scheduled time, the less desirable it is. For example, shifting by 2 hours is more desirable than 6 hours.\n",
    "* Moving the load earlier than the ideal schedule is more desirable than moving it later. The penalty for shifting later is twice that of shifting earlier. \n",
    "\n",
    "We create a simultor to calculate the inconvenience cost as well as monetary gain of shifting a load. The time with the least inconvenience for the most gain is reported. If this is more than 10p per day then we consider it to be worth shifting."
   ]
  },
  {
   "cell_type": "code",
   "execution_count": 2159,
   "id": "40051dbd-a026-49b7-944f-24b604f9f839",
   "metadata": {},
   "outputs": [],
   "source": [
    "# The simulation\n",
    "def sim_trial_schedule(schedule_start_time, trial_start_time, duration, power):\n",
    "\n",
    "    schedule = create_schedule(schedule_start_time, duration)\n",
    "    trial_schedule = create_schedule(trial_start_time, duration)\n",
    "    \n",
    "    opt = pd.DataFrame(flex_pot['time']).reset_index()\n",
    "    opt['tariff'] = flex_pot['2025-03-12']\n",
    "    \n",
    "    opt['schedule'] =  opt['time'].apply(lambda x: 1 if x in schedule else 0)\n",
    "    opt['schedule_load_cost'] = opt['schedule']* power/2 * opt['tariff']\n",
    "    \n",
    "    opt['trial_schedule'] = opt['time'].apply(lambda x: 1 if x in trial_schedule else 0)\n",
    "    opt['trial_load_cost'] = opt['trial_schedule']* power/2 * opt['tariff']\n",
    "    \n",
    "    opt['night'] = opt['time'].apply(lambda x: 1 if x < dt.time(6,0) else 1 if x > dt.time(23,0) else 0) # only works if schedule is during day\n",
    "    opt['night_cost'] = opt['night'] * opt['trial_schedule'] * 50\n",
    "    \n",
    "    start_time_index = opt[opt['time']==schedule_start_time].index.item()\n",
    "    opt['inconvenient'] = opt['index'].apply(lambda x: (start_time_index-x) if x < start_time_index else (x-start_time_index-duration*2+1)*2 if x >= start_time_index+duration*2 else 0)\n",
    "    opt['inconvenient_cost'] = opt['trial_schedule'] * opt['inconvenient']\n",
    "    \n",
    "    opt['total_cost'] = opt['trial_load_cost'] + opt['night_cost'] + opt['inconvenient_cost']\n",
    "\n",
    "    cost = opt['total_cost'].sum()\n",
    "    true_cost = opt['trial_load_cost'].sum()\n",
    "    \n",
    "    return opt, cost, true_cost"
   ]
  },
  {
   "cell_type": "code",
   "execution_count": 2161,
   "id": "54828fdf-6c64-4186-b4fa-509842d84412",
   "metadata": {},
   "outputs": [],
   "source": [
    "# Create a device on/off schedule based on the parameters specified\n",
    "def create_schedule(schedule_start_time, duration):\n",
    "    schedule = []\n",
    "    schedule_start_date = dt.datetime.combine(dt.date.today(), schedule_start_time)\n",
    "    for hh in range(duration*2):\n",
    "        schedule_time = (schedule_start_date + dt.timedelta(minutes=30*hh)).time()\n",
    "        schedule.append(schedule_time) \n",
    "\n",
    "    return schedule\n",
    "    "
   ]
  },
  {
   "cell_type": "code",
   "execution_count": 2163,
   "id": "a11a7bfb-f276-40bb-bd86-d2beb981ce56",
   "metadata": {},
   "outputs": [],
   "source": [
    "# Specify the load to be shifted\n",
    "\n",
    "schedule_start_time = dt.time(17,0,0)\n",
    "duration = 2 #hours   #NB doesn't work for 0.5 hour yet\n",
    "power = 2 #kW\n"
   ]
  },
  {
   "cell_type": "code",
   "execution_count": 2165,
   "id": "1408572a-56fe-4e78-aed8-2359af0a9a7d",
   "metadata": {},
   "outputs": [],
   "source": [
    "# Run simulations to see if it is worth shifting the load\n",
    "\n",
    "trial_cost=[]\n",
    "true_trial_cost=[]\n",
    "trial_start_times = pd.date_range(dt.datetime(2000,1,1,0,0,0),periods=48-duration*2+1,freq='30min')\n",
    "\n",
    "for trial_start_time in trial_start_times:\n",
    "    opt, cost, true_cost = sim_trial_schedule(schedule_start_time, trial_start_time.time(), duration, power)\n",
    "    trial_cost.append(cost)\n",
    "    true_trial_cost.append(true_cost)"
   ]
  },
  {
   "cell_type": "code",
   "execution_count": 2166,
   "id": "9ec9e7aa-5925-41d4-b31c-4af462fa092a",
   "metadata": {},
   "outputs": [
    {
     "data": {
      "image/png": "[encoded data removed]",
      "text/plain": [
       "<Figure size 640x480 with 1 Axes>"
      ]
     },
     "metadata": {},
     "output_type": "display_data"
    }
   ],
   "source": [
    "# Plot results \n",
    "results=pd.DataFrame(trial_start_times.time, trial_cost).reset_index()\n",
    "results.columns=['trial_cost','trial_start_time']\n",
    "results['trial_start_time'] = results['trial_start_time']\n",
    "results['trial_true_cost'] = true_trial_cost\n",
    "optimum_time = results[results['trial_cost']==results['trial_cost'].min()]['trial_start_time'].item()\n",
    "\n",
    "results.plot('trial_start_time', ['trial_cost', 'trial_true_cost'], style='.-')\n",
    "plt.axvline(schedule_start_time, color='black', linestyle='--', label='Scheduled time')\n",
    "plt.axvline(optimum_time, color='black', linestyle='-', label='Optimum time')\n",
    "plt.legend()\n",
    "\n",
    "plt.tight_layout()"
   ]
  },
  {
   "cell_type": "code",
   "execution_count": 2169,
   "id": "dc4d3fb4-174a-41f7-b469-678c95c2eddd",
   "metadata": {},
   "outputs": [
    {
     "name": "stdout",
     "output_type": "stream",
     "text": [
      "17:00:00 14:00:00 94.2585 76.2585\n"
     ]
    }
   ],
   "source": [
    "# Calculate the cost savings between the schedule and optimum times\n",
    "opt, cost, true_cost = sim_trial_schedule(schedule_start_time, optimum_time, duration, power)\n",
    "cost_saving = (opt['schedule_load_cost']-opt['trial_load_cost']).sum()\n",
    "total_saving = (opt['schedule_load_cost']-opt['total_cost']).sum()\n",
    "print(schedule_start_time, optimum_time, cost_saving, total_saving)\n"
   ]
  },
  {
   "cell_type": "code",
   "execution_count": 2171,
   "id": "6ff8862d-4e9a-43c8-aca9-6199ec878e43",
   "metadata": {},
   "outputs": [
    {
     "name": "stdout",
     "output_type": "stream",
     "text": [
      "You would save £0.94 by switching your schedule from 17:00:00 to 14:00:00\n"
     ]
    }
   ],
   "source": [
    "# Determine if there is another time which saves more than 10p and isn't too inconvenient\n",
    "if (total_saving > 0) & (cost_saving > 10):\n",
    "    print('You would save £%s by switching your schedule from %s to %s' % (round(cost_saving)/100, schedule_start_time, optimum_time)) # e.g. 5pm\n",
    "elif (total_saving == 0):\n",
    "    print('It is not worth switching your schedule today because the inconvenience is not worth the saving') # e.g. 12pm\n",
    "else:\n",
    "    print('It is not worth switching your schedule today because the cost saving is less than 10p') # e.g. 7am"
   ]
  },
  {
   "cell_type": "code",
   "execution_count": null,
   "id": "4aaf158d-fcb0-4691-9ec2-07f3183a90da",
   "metadata": {},
   "outputs": [],
   "source": [
    "opt"
   ]
  },
  {
   "cell_type": "code",
   "execution_count": null,
   "id": "2b31873f-7b76-451c-a9c6-f32dd0c0361e",
   "metadata": {},
   "outputs": [],
   "source": []
  }
 ],
 "metadata": {
  "kernelspec": {
   "display_name": "venv",
   "language": "python",
   "name": "venv"
  },
  "language_info": {
   "codemirror_mode": {
    "name": "ipython",
    "version": 3
   },
   "file_extension": ".py",
   "mimetype": "text/x-python",
   "name": "python",
   "nbconvert_exporter": "python",
   "pygments_lexer": "ipython3",
   "version": "3.11.5"
  }
 },
 "nbformat": 4,
 "nbformat_minor": 5
}
